{
  "cells": [
    {
      "cell_type": "markdown",
      "metadata": {
        "id": "view-in-github",
        "colab_type": "text"
      },
      "source": [
        "<a href=\"https://colab.research.google.com/github/vinodkraman/Learning-Permutations/blob/main/LearningPermutations.ipynb\" target=\"_parent\"><img src=\"https://colab.research.google.com/assets/colab-badge.svg\" alt=\"Open In Colab\"/></a>"
      ]
    },
    {
      "cell_type": "code",
      "execution_count": 72,
      "metadata": {
        "colab": {
          "base_uri": "https://localhost:8080/"
        },
        "id": "JvhL5n76zBqx",
        "outputId": "966d2616-0ef5-4497-ce91-d963154ff9c6"
      },
      "outputs": [
        {
          "output_type": "stream",
          "name": "stdout",
          "text": [
            "Mon Dec  2 00:31:17 2024       \n",
            "+---------------------------------------------------------------------------------------+\n",
            "| NVIDIA-SMI 535.104.05             Driver Version: 535.104.05   CUDA Version: 12.2     |\n",
            "|-----------------------------------------+----------------------+----------------------+\n",
            "| GPU  Name                 Persistence-M | Bus-Id        Disp.A | Volatile Uncorr. ECC |\n",
            "| Fan  Temp   Perf          Pwr:Usage/Cap |         Memory-Usage | GPU-Util  Compute M. |\n",
            "|                                         |                      |               MIG M. |\n",
            "|=========================================+======================+======================|\n",
            "|   0  Tesla T4                       Off | 00000000:00:04.0 Off |                    0 |\n",
            "| N/A   78C    P0              33W /  70W |    257MiB / 15360MiB |      0%      Default |\n",
            "|                                         |                      |                  N/A |\n",
            "+-----------------------------------------+----------------------+----------------------+\n",
            "                                                                                         \n",
            "+---------------------------------------------------------------------------------------+\n",
            "| Processes:                                                                            |\n",
            "|  GPU   GI   CI        PID   Type   Process name                            GPU Memory |\n",
            "|        ID   ID                                                             Usage      |\n",
            "|=======================================================================================|\n",
            "+---------------------------------------------------------------------------------------+\n"
          ]
        }
      ],
      "source": [
        "!nvidia-smi"
      ]
    },
    {
      "cell_type": "code",
      "execution_count": 160,
      "metadata": {
        "id": "eW9XY9jbzIAU"
      },
      "outputs": [],
      "source": [
        "import torch\n",
        "import torch.nn as nn\n",
        "import numpy as np\n",
        "import collections\n",
        "\n",
        "torch.manual_seed(42)\n",
        "torch.cuda.manual_seed_all(42)\n",
        "device = torch.device(\"cuda\" if torch.cuda.is_available() else \"cpu\")"
      ]
    },
    {
      "cell_type": "code",
      "execution_count": 161,
      "metadata": {
        "id": "hpZs3i98YfGN"
      },
      "outputs": [],
      "source": [
        "def shuffle_columns(tensor, indices):\n",
        "    return tensor[:, indices]"
      ]
    },
    {
      "cell_type": "code",
      "execution_count": 162,
      "metadata": {
        "colab": {
          "base_uri": "https://localhost:8080/"
        },
        "id": "nPWt8UNczJOX",
        "outputId": "f3ddf1dc-303c-4d1c-cb6a-72316a514a9a"
      },
      "outputs": [
        {
          "output_type": "stream",
          "name": "stdout",
          "text": [
            "tensor([[0, 0, 0, 0, 0, 0, 0, 0, 0, 1],\n",
            "        [0, 0, 0, 0, 1, 0, 0, 0, 0, 0],\n",
            "        [0, 0, 0, 0, 0, 1, 0, 0, 0, 0],\n",
            "        [0, 0, 0, 0, 0, 0, 1, 0, 0, 0],\n",
            "        [0, 0, 0, 0, 0, 0, 0, 0, 1, 0],\n",
            "        [0, 1, 0, 0, 0, 0, 0, 0, 0, 0],\n",
            "        [1, 0, 0, 0, 0, 0, 0, 0, 0, 0],\n",
            "        [0, 0, 0, 0, 0, 0, 0, 1, 0, 0],\n",
            "        [0, 0, 0, 1, 0, 0, 0, 0, 0, 0],\n",
            "        [0, 0, 1, 0, 0, 0, 0, 0, 0, 0]])\n"
          ]
        }
      ],
      "source": [
        "N = 10 # Sequence length\n",
        "vocab_size = 10 #vocab_size\n",
        "batch_size = 1000 #batch size\n",
        "\n",
        "n_train = 3000 #training set size\n",
        "n_test = 1000 #validation set\n",
        "\n",
        "A = torch.eye(N).long()\n",
        "\n",
        "perm = torch.randperm(N)\n",
        "A = shuffle_columns(A, perm) #generates a random permutation matrix\n",
        "print(A)"
      ]
    },
    {
      "cell_type": "code",
      "execution_count": 163,
      "metadata": {
        "id": "QVQFyY2Zz3Ui",
        "colab": {
          "base_uri": "https://localhost:8080/"
        },
        "outputId": "8cfb8e1f-ad31-438f-a750-45bb3ca67589"
      },
      "outputs": [
        {
          "output_type": "stream",
          "name": "stdout",
          "text": [
            "tensor(9)\n"
          ]
        }
      ],
      "source": [
        "# Generate a batch of random input sequences\n",
        "input_sequences = torch.randint(0, vocab_size, (n_train, N)) #n x N\n",
        "output_sequences  = torch.matmul(input_sequences, A)\n",
        "print(torch.max(output_sequences))\n",
        "\n",
        "train_input_sequences = input_sequences.to(device)\n",
        "train_output_sequences = output_sequences.to(device)\n",
        "train_dataset = torch.utils.data.TensorDataset(train_input_sequences, train_output_sequences)\n",
        "train_data_loader = torch.utils.data.DataLoader(\n",
        "        dataset=train_dataset,\n",
        "        batch_size=batch_size,\n",
        "    )"
      ]
    },
    {
      "cell_type": "code",
      "execution_count": 164,
      "metadata": {
        "id": "6kZhLBI65jJa",
        "outputId": "d57a0e74-df8d-4b53-8cad-32cb9068559a",
        "colab": {
          "base_uri": "https://localhost:8080/"
        }
      },
      "outputs": [
        {
          "output_type": "stream",
          "name": "stdout",
          "text": [
            "tensor(9)\n"
          ]
        }
      ],
      "source": [
        "val_input_sequences = torch.randint(0, vocab_size, (n_test, N))\n",
        "val_output_sequences = torch.matmul(val_input_sequences, A)\n",
        "print(torch.max(val_output_sequences))\n",
        "\n",
        "val_input_sequences = val_input_sequences.to(device)\n",
        "val_output_sequences = val_output_sequences.to(device)\n",
        "\n",
        "val_dataset = torch.utils.data.TensorDataset(val_input_sequences, val_output_sequences)\n",
        "val_data_loader = torch.utils.data.DataLoader(\n",
        "        dataset=val_dataset,\n",
        "        batch_size=batch_size,\n",
        "    )"
      ]
    },
    {
      "cell_type": "code",
      "source": [
        "class PositionalEncoding(nn.Module):\n",
        "    def __init__(self, d_model, seq_len):\n",
        "        super(PositionalEncoding, self).__init__()\n",
        "\n",
        "        self.encoding = torch.zeros(seq_len, d_model, device=device)\n",
        "        self.encoding.requires_grad = False\n",
        "\n",
        "        pos = torch.arange(0, seq_len, device=device)\n",
        "        pos = pos.float().unsqueeze(dim=1)\n",
        "\n",
        "        _2i = torch.arange(0, d_model, step=2, device=device).float()\n",
        "\n",
        "        self.encoding[:, 0::2] = torch.sin(pos / (10000 ** (_2i / d_model)))\n",
        "        self.encoding[:, 1::2] = torch.cos(pos / (10000 ** (_2i / d_model)))\n",
        "\n",
        "    def forward(self, x):\n",
        "        batch_size, seq_len = x.size()\n",
        "\n",
        "        return self.encoding[:seq_len, :]"
      ],
      "metadata": {
        "id": "xQXcXLInt3Mt"
      },
      "execution_count": 211,
      "outputs": []
    },
    {
      "cell_type": "code",
      "source": [
        "class Embedding(nn.Module):\n",
        "    def __init__(self, vocab_size, d_embed, seq_len):\n",
        "        super(Embedding, self).__init__()\n",
        "\n",
        "        self.tok_embed = nn.Embedding(vocab_size, d_embed).to(device)\n",
        "        self.pos_embed = PositionalEncoding(d_embed, seq_len)\n",
        "        self.dropout = nn.Dropout(0.1)\n",
        "\n",
        "    def forward(self, x, pos = False):\n",
        "      if pos:\n",
        "        x_embed = self.dropout(self.tok_embed(x) + self.pos_embed(x))\n",
        "      else:\n",
        "        x_embed = self.dropout(self.tok_embed(x))\n",
        "      return x_embed"
      ],
      "metadata": {
        "id": "qhf4DdVI3XUx"
      },
      "execution_count": 212,
      "outputs": []
    },
    {
      "cell_type": "code",
      "execution_count": 213,
      "metadata": {
        "id": "897inNwlz5i-"
      },
      "outputs": [],
      "source": [
        "class PointwiseFeedforwardNetwork(nn.Module):\n",
        "  def __init__(self, d_embed, d_ff):\n",
        "    super(PointwiseFeedforwardNetwork, self).__init__()\n",
        "    self.d_embed = d_embed\n",
        "    self.d_ff = d_ff\n",
        "\n",
        "    self.ffn1 = nn.Linear(d_embed, d_ff)\n",
        "    self.ffn2 = nn.Linear(d_ff, d_embed)\n",
        "\n",
        "    self.relu = nn.ReLU()\n",
        "\n",
        "  def forward(self, x):\n",
        "    return self.ffn2(self.relu(self.ffn1(x)))"
      ]
    },
    {
      "cell_type": "code",
      "execution_count": 214,
      "metadata": {
        "id": "IIShZV1Fz7nS"
      },
      "outputs": [],
      "source": [
        "class Attention(nn.Module):\n",
        "  def __init__(self, d_embed):\n",
        "    super(Attention, self).__init__()\n",
        "\n",
        "    self.d_embed = d_embed\n",
        "    self.query_proj = nn.Linear(d_embed, d_embed).to(device)\n",
        "    self.key_proj = nn.Linear(d_embed, d_embed).to(device)\n",
        "    self.value_proj = nn.Linear(d_embed, d_embed).to(device)\n",
        "\n",
        "\n",
        "  def forward(self, x):\n",
        "    Q = self.query_proj(x)\n",
        "    K = self.key_proj(x)\n",
        "    V = self.value_proj(x)\n",
        "\n",
        "    scores = torch.matmul(Q, K.transpose(2, 1)) / (self.d_embed ** 0.5)\n",
        "\n",
        "    attention_weights = torch.softmax(scores, dim=-1)\n",
        "\n",
        "    output = torch.matmul(attention_weights, V)\n",
        "\n",
        "    return output\n"
      ]
    },
    {
      "cell_type": "code",
      "execution_count": 215,
      "metadata": {
        "id": "K03z-F4Ez-xo"
      },
      "outputs": [],
      "source": [
        "class TransformerLayer(nn.Module):\n",
        "  def __init__(self, d_embed, d_ff):\n",
        "    super(TransformerLayer, self).__init__()\n",
        "    self.d_embed = d_embed\n",
        "    self.d_ff = d_ff\n",
        "\n",
        "    self.attn = Attention(self.d_embed)\n",
        "\n",
        "    self.norm1 = nn.LayerNorm(d_embed).to(device)\n",
        "    self.norm2 = nn.LayerNorm(d_embed).to(device)\n",
        "    self.dropout = nn.Dropout(0.1)\n",
        "\n",
        "    self.ffn = PointwiseFeedforwardNetwork(d_embed, d_ff).to(device)\n",
        "    self.ffout = nn.Linear(d_embed, d_embed).to(device)\n",
        "\n",
        "  def forward(self, x):\n",
        "    x = self.norm1(x + self.dropout(self.attn(x)))\n",
        "    ffn = self.ffn(x)\n",
        "    x = self.norm2(x + self.dropout(ffn))\n",
        "\n",
        "    return self.ffout(x)\n"
      ]
    },
    {
      "cell_type": "code",
      "execution_count": 216,
      "metadata": {
        "id": "OtGOdJ-s0GTd"
      },
      "outputs": [],
      "source": [
        "class MultiLayerTransformer(nn.Module):\n",
        "  def __init__(self, seq_len, d_embed, vocab_size, d_ff, num_layers):\n",
        "    super(MultiLayerTransformer, self).__init__()\n",
        "\n",
        "    self.embed = Embedding(vocab_size, d_embed, seq_len)\n",
        "    self.layers = nn.ModuleList([TransformerLayer(d_embed, d_ff)] * num_layers)\n",
        "    self.fcout = nn.Linear(d_embed, vocab_size).to(device)\n",
        "\n",
        "  def forward(self, x):\n",
        "    x_embed = self.embed(x)\n",
        "\n",
        "    for layer in self.layers:\n",
        "      x_embed = layer(x_embed)\n",
        "\n",
        "    return self.fcout(x_embed)"
      ]
    },
    {
      "cell_type": "code",
      "execution_count": 217,
      "metadata": {
        "id": "11O0wUx2_pLs"
      },
      "outputs": [],
      "source": [
        "class RNN(nn.Module):\n",
        "  def __init__(self, seq_len, d_embed, vocab_size, hidden_dim, num_layers, batch_size):\n",
        "    super().__init__()\n",
        "    self.size_vocab = vocab_size\n",
        "    self.d_embed = d_embed\n",
        "    self.hidden_dim = hidden_dim\n",
        "    self.h0 = torch.zeros(num_layers, batch_size, self.hidden_dim).to(device)\n",
        "\n",
        "    self.embed = Embedding(vocab_size, d_embed, seq_len)\n",
        "\n",
        "    self.rnn = nn.RNN(d_embed, hidden_dim, num_layers= num_layers, nonlinearity='relu', dropout=0.1, batch_first=True).to(device)\n",
        "    self.fc = nn.Linear(hidden_dim, vocab_size).to(device)\n",
        "\n",
        "  def forward(self, x):\n",
        "    x_embed = self.embed(x)\n",
        "    x_rnn, _ = self.rnn(x_embed, self.h0)\n",
        "    out = self.fc(x_rnn)\n",
        "    return out"
      ]
    },
    {
      "cell_type": "code",
      "source": [
        "def train_epoch(data_loader, vocab_size, model, criterion, optimizer, device):\n",
        "  model.train()\n",
        "  epoch_losses = []\n",
        "\n",
        "  for batch in data_loader:\n",
        "    optimizer.zero_grad()\n",
        "    X_train = batch[0]\n",
        "    y_train = batch[1]\n",
        "\n",
        "    outputs = model(X_train)\n",
        "    loss = criterion(outputs.contiguous().view(-1, vocab_size), y_train.contiguous().view(-1))\n",
        "    epoch_losses.append(loss.item())\n",
        "\n",
        "    loss.backward()\n",
        "    optimizer.step()\n",
        "\n",
        "  return np.mean(epoch_losses)"
      ],
      "metadata": {
        "id": "ZmI0WTh_yXpf"
      },
      "execution_count": 218,
      "outputs": []
    },
    {
      "cell_type": "code",
      "source": [
        "def get_accuracy(prediction, labels):\n",
        "    batch_size, _ = prediction.shape\n",
        "    predicted_classes = prediction.argmax(dim=-1)\n",
        "    correct_predictions = predicted_classes.eq(labels).sum()\n",
        "    accuracy = correct_predictions / batch_size\n",
        "    return accuracy"
      ],
      "metadata": {
        "id": "JzOqvB0bqB_F"
      },
      "execution_count": 219,
      "outputs": []
    },
    {
      "cell_type": "code",
      "source": [
        "def epoch_evaluate(data_loader, vocab_size, model, criterion, device):\n",
        "    model.eval()\n",
        "    epoch_losses = []\n",
        "    epoch_accs = []\n",
        "    with torch.no_grad():\n",
        "        for batch in data_loader:\n",
        "          X_val = batch[0]\n",
        "          y_val = batch[1]\n",
        "\n",
        "          predictions = model(X_val).to(device)\n",
        "          loss = criterion(predictions.contiguous().view(-1, vocab_size), y_val.contiguous().view(-1))\n",
        "          accuracy = get_accuracy(predictions.contiguous().view(-1, vocab_size), y_val.contiguous().view(-1))\n",
        "\n",
        "          epoch_losses.append(loss.item())\n",
        "          epoch_accs.append(accuracy.item())\n",
        "\n",
        "    return np.mean(epoch_losses), np.mean(epoch_accs)"
      ],
      "metadata": {
        "id": "X88PElNwy7Er"
      },
      "execution_count": 220,
      "outputs": []
    },
    {
      "cell_type": "code",
      "execution_count": 221,
      "metadata": {
        "id": "9Q2BKU0PE_Nv"
      },
      "outputs": [],
      "source": [
        "def train(vocab_size, model, criterion, optimizer, n_epochs, train_data_loader, val_data_loader):\n",
        "  metrics = collections.defaultdict(list)\n",
        "\n",
        "  for epoch in range(n_epochs):\n",
        "      train_loss = train_epoch(\n",
        "          train_data_loader, vocab_size, model, criterion, optimizer, device\n",
        "      )\n",
        "      valid_loss, valid_acc = epoch_evaluate(val_data_loader, vocab_size, model, criterion, device)\n",
        "      metrics[\"valid_losses\"].append(valid_loss)\n",
        "      metrics[\"valid_acc\"].append(valid_acc)\n",
        "      metrics[\"train_losses\"].append(train_loss)\n",
        "\n",
        "      if (epoch+1) % 10 == 0:\n",
        "        print(f'Epoch [{epoch+1}/{n_epochs}], Training loss: {train_loss:.4f}, Validation loss: {valid_loss:.4f}, Validation acc: {valid_acc:.4f}')\n",
        "\n",
        "  return metrics"
      ]
    },
    {
      "cell_type": "code",
      "execution_count": 222,
      "metadata": {
        "colab": {
          "base_uri": "https://localhost:8080/"
        },
        "id": "TIDpe3NCFgR-",
        "outputId": "82499c9f-d898-40b2-97e2-3c2c2262fb3e"
      },
      "outputs": [
        {
          "output_type": "stream",
          "name": "stdout",
          "text": [
            "# param Transformer: 7114\n",
            "# param RNN: 6986\n"
          ]
        }
      ],
      "source": [
        "d_ff = 32\n",
        "d_embed = 32\n",
        "num_layers = 3\n",
        "n_epochs = 1000\n",
        "\n",
        "\n",
        "trans = MultiLayerTransformer(N, d_embed, vocab_size, d_ff, num_layers).to(device)\n",
        "optimizer_trans = torch.optim.Adam(trans.parameters())\n",
        "num_trainable_params = sum([p.numel() for p in trans.parameters()])\n",
        "print(\"# param Transformer:\", num_trainable_params)\n",
        "\n",
        "rnn = RNN(N, d_embed, vocab_size, d_ff, num_layers, batch_size).to(device)\n",
        "optimizer_rnn = torch.optim.Adam(rnn.parameters())\n",
        "num_trainable_params = sum([p.numel() for p in rnn.parameters()])\n",
        "print(\"# param RNN:\", num_trainable_params)\n",
        "\n",
        "criterion = nn.CrossEntropyLoss().to(device)\n"
      ]
    },
    {
      "cell_type": "code",
      "execution_count": 223,
      "metadata": {
        "colab": {
          "base_uri": "https://localhost:8080/"
        },
        "id": "BJ2n-G4RGlaY",
        "outputId": "35d39931-7a95-4268-b77f-46046e282490"
      },
      "outputs": [
        {
          "output_type": "stream",
          "name": "stdout",
          "text": [
            "Epoch [10/1000], Training loss: 2.1590, Validation loss: 2.1388, Validation acc: 0.2201\n",
            "Epoch [20/1000], Training loss: 2.0477, Validation loss: 2.0223, Validation acc: 0.2515\n",
            "Epoch [30/1000], Training loss: 1.9719, Validation loss: 1.9449, Validation acc: 0.2679\n",
            "Epoch [40/1000], Training loss: 1.9258, Validation loss: 1.8990, Validation acc: 0.2679\n",
            "Epoch [50/1000], Training loss: 1.9026, Validation loss: 1.8751, Validation acc: 0.2712\n",
            "Epoch [60/1000], Training loss: 1.8870, Validation loss: 1.8613, Validation acc: 0.2729\n",
            "Epoch [70/1000], Training loss: 1.8754, Validation loss: 1.8503, Validation acc: 0.2713\n",
            "Epoch [80/1000], Training loss: 1.8662, Validation loss: 1.8407, Validation acc: 0.2737\n",
            "Epoch [90/1000], Training loss: 1.8606, Validation loss: 1.8332, Validation acc: 0.2747\n",
            "Epoch [100/1000], Training loss: 1.8520, Validation loss: 1.8271, Validation acc: 0.2715\n",
            "Epoch [110/1000], Training loss: 1.8468, Validation loss: 1.8225, Validation acc: 0.2721\n",
            "Epoch [120/1000], Training loss: 1.8408, Validation loss: 1.8173, Validation acc: 0.2725\n",
            "Epoch [130/1000], Training loss: 1.8345, Validation loss: 1.8140, Validation acc: 0.2731\n",
            "Epoch [140/1000], Training loss: 1.8337, Validation loss: 1.8110, Validation acc: 0.2724\n",
            "Epoch [150/1000], Training loss: 1.8307, Validation loss: 1.8085, Validation acc: 0.2713\n",
            "Epoch [160/1000], Training loss: 1.8245, Validation loss: 1.8065, Validation acc: 0.2729\n",
            "Epoch [170/1000], Training loss: 1.8238, Validation loss: 1.8051, Validation acc: 0.2701\n",
            "Epoch [180/1000], Training loss: 1.8236, Validation loss: 1.8036, Validation acc: 0.2707\n",
            "Epoch [190/1000], Training loss: 1.8201, Validation loss: 1.8026, Validation acc: 0.2725\n",
            "Epoch [200/1000], Training loss: 1.8172, Validation loss: 1.8016, Validation acc: 0.2708\n",
            "Epoch [210/1000], Training loss: 1.8167, Validation loss: 1.8008, Validation acc: 0.2706\n",
            "Epoch [220/1000], Training loss: 1.8144, Validation loss: 1.8004, Validation acc: 0.2713\n",
            "Epoch [230/1000], Training loss: 1.8141, Validation loss: 1.7993, Validation acc: 0.2716\n",
            "Epoch [240/1000], Training loss: 1.8139, Validation loss: 1.7993, Validation acc: 0.2700\n",
            "Epoch [250/1000], Training loss: 1.8103, Validation loss: 1.7984, Validation acc: 0.2711\n",
            "Epoch [260/1000], Training loss: 1.8102, Validation loss: 1.7980, Validation acc: 0.2700\n",
            "Epoch [270/1000], Training loss: 1.8082, Validation loss: 1.7978, Validation acc: 0.2690\n",
            "Epoch [280/1000], Training loss: 1.8079, Validation loss: 1.7974, Validation acc: 0.2684\n",
            "Epoch [290/1000], Training loss: 1.8077, Validation loss: 1.7972, Validation acc: 0.2720\n",
            "Epoch [300/1000], Training loss: 1.8052, Validation loss: 1.7966, Validation acc: 0.2690\n",
            "Epoch [310/1000], Training loss: 1.8066, Validation loss: 1.7962, Validation acc: 0.2695\n",
            "Epoch [320/1000], Training loss: 1.8047, Validation loss: 1.7966, Validation acc: 0.2688\n",
            "Epoch [330/1000], Training loss: 1.8033, Validation loss: 1.7958, Validation acc: 0.2719\n",
            "Epoch [340/1000], Training loss: 1.8038, Validation loss: 1.7954, Validation acc: 0.2701\n",
            "Epoch [350/1000], Training loss: 1.8019, Validation loss: 1.7946, Validation acc: 0.2693\n",
            "Epoch [360/1000], Training loss: 1.8006, Validation loss: 1.7950, Validation acc: 0.2693\n",
            "Epoch [370/1000], Training loss: 1.8013, Validation loss: 1.7944, Validation acc: 0.2683\n",
            "Epoch [380/1000], Training loss: 1.7991, Validation loss: 1.7948, Validation acc: 0.2686\n",
            "Epoch [390/1000], Training loss: 1.7999, Validation loss: 1.7951, Validation acc: 0.2691\n",
            "Epoch [400/1000], Training loss: 1.7982, Validation loss: 1.7947, Validation acc: 0.2691\n",
            "Epoch [410/1000], Training loss: 1.7987, Validation loss: 1.7943, Validation acc: 0.2716\n",
            "Epoch [420/1000], Training loss: 1.7983, Validation loss: 1.7943, Validation acc: 0.2694\n",
            "Epoch [430/1000], Training loss: 1.7980, Validation loss: 1.7940, Validation acc: 0.2687\n",
            "Epoch [440/1000], Training loss: 1.7969, Validation loss: 1.7937, Validation acc: 0.2699\n",
            "Epoch [450/1000], Training loss: 1.7955, Validation loss: 1.7943, Validation acc: 0.2695\n",
            "Epoch [460/1000], Training loss: 1.7966, Validation loss: 1.7943, Validation acc: 0.2686\n",
            "Epoch [470/1000], Training loss: 1.7955, Validation loss: 1.7940, Validation acc: 0.2652\n",
            "Epoch [480/1000], Training loss: 1.7958, Validation loss: 1.7945, Validation acc: 0.2673\n",
            "Epoch [490/1000], Training loss: 1.7938, Validation loss: 1.7938, Validation acc: 0.2684\n",
            "Epoch [500/1000], Training loss: 1.7926, Validation loss: 1.7938, Validation acc: 0.2660\n",
            "Epoch [510/1000], Training loss: 1.7933, Validation loss: 1.7944, Validation acc: 0.2665\n",
            "Epoch [520/1000], Training loss: 1.7941, Validation loss: 1.7941, Validation acc: 0.2692\n",
            "Epoch [530/1000], Training loss: 1.7919, Validation loss: 1.7942, Validation acc: 0.2655\n",
            "Epoch [540/1000], Training loss: 1.7925, Validation loss: 1.7944, Validation acc: 0.2685\n",
            "Epoch [550/1000], Training loss: 1.7916, Validation loss: 1.7942, Validation acc: 0.2657\n",
            "Epoch [560/1000], Training loss: 1.7916, Validation loss: 1.7941, Validation acc: 0.2660\n",
            "Epoch [570/1000], Training loss: 1.7896, Validation loss: 1.7935, Validation acc: 0.2675\n",
            "Epoch [580/1000], Training loss: 1.7916, Validation loss: 1.7935, Validation acc: 0.2688\n",
            "Epoch [590/1000], Training loss: 1.7895, Validation loss: 1.7934, Validation acc: 0.2657\n",
            "Epoch [600/1000], Training loss: 1.7904, Validation loss: 1.7935, Validation acc: 0.2658\n",
            "Epoch [610/1000], Training loss: 1.7905, Validation loss: 1.7942, Validation acc: 0.2678\n",
            "Epoch [620/1000], Training loss: 1.7901, Validation loss: 1.7936, Validation acc: 0.2666\n",
            "Epoch [630/1000], Training loss: 1.7907, Validation loss: 1.7931, Validation acc: 0.2676\n",
            "Epoch [640/1000], Training loss: 1.7892, Validation loss: 1.7933, Validation acc: 0.2686\n",
            "Epoch [650/1000], Training loss: 1.7892, Validation loss: 1.7939, Validation acc: 0.2700\n",
            "Epoch [660/1000], Training loss: 1.7882, Validation loss: 1.7937, Validation acc: 0.2666\n",
            "Epoch [670/1000], Training loss: 1.7857, Validation loss: 1.7934, Validation acc: 0.2678\n",
            "Epoch [680/1000], Training loss: 1.7874, Validation loss: 1.7935, Validation acc: 0.2697\n",
            "Epoch [690/1000], Training loss: 1.7886, Validation loss: 1.7937, Validation acc: 0.2668\n",
            "Epoch [700/1000], Training loss: 1.7875, Validation loss: 1.7929, Validation acc: 0.2690\n",
            "Epoch [710/1000], Training loss: 1.7868, Validation loss: 1.7931, Validation acc: 0.2699\n",
            "Epoch [720/1000], Training loss: 1.7863, Validation loss: 1.7935, Validation acc: 0.2675\n",
            "Epoch [730/1000], Training loss: 1.7866, Validation loss: 1.7929, Validation acc: 0.2680\n",
            "Epoch [740/1000], Training loss: 1.7875, Validation loss: 1.7934, Validation acc: 0.2711\n",
            "Epoch [750/1000], Training loss: 1.7860, Validation loss: 1.7935, Validation acc: 0.2709\n",
            "Epoch [760/1000], Training loss: 1.7847, Validation loss: 1.7934, Validation acc: 0.2716\n",
            "Epoch [770/1000], Training loss: 1.7850, Validation loss: 1.7935, Validation acc: 0.2694\n",
            "Epoch [780/1000], Training loss: 1.7868, Validation loss: 1.7943, Validation acc: 0.2692\n",
            "Epoch [790/1000], Training loss: 1.7830, Validation loss: 1.7936, Validation acc: 0.2678\n",
            "Epoch [800/1000], Training loss: 1.7853, Validation loss: 1.7934, Validation acc: 0.2700\n",
            "Epoch [810/1000], Training loss: 1.7841, Validation loss: 1.7934, Validation acc: 0.2683\n",
            "Epoch [820/1000], Training loss: 1.7852, Validation loss: 1.7939, Validation acc: 0.2684\n",
            "Epoch [830/1000], Training loss: 1.7836, Validation loss: 1.7945, Validation acc: 0.2696\n",
            "Epoch [840/1000], Training loss: 1.7837, Validation loss: 1.7934, Validation acc: 0.2713\n",
            "Epoch [850/1000], Training loss: 1.7840, Validation loss: 1.7937, Validation acc: 0.2687\n",
            "Epoch [860/1000], Training loss: 1.7852, Validation loss: 1.7943, Validation acc: 0.2729\n",
            "Epoch [870/1000], Training loss: 1.7843, Validation loss: 1.7944, Validation acc: 0.2683\n",
            "Epoch [880/1000], Training loss: 1.7819, Validation loss: 1.7944, Validation acc: 0.2717\n",
            "Epoch [890/1000], Training loss: 1.7835, Validation loss: 1.7940, Validation acc: 0.2691\n",
            "Epoch [900/1000], Training loss: 1.7824, Validation loss: 1.7943, Validation acc: 0.2688\n",
            "Epoch [910/1000], Training loss: 1.7832, Validation loss: 1.7946, Validation acc: 0.2673\n",
            "Epoch [920/1000], Training loss: 1.7842, Validation loss: 1.7944, Validation acc: 0.2700\n",
            "Epoch [930/1000], Training loss: 1.7813, Validation loss: 1.7947, Validation acc: 0.2693\n",
            "Epoch [940/1000], Training loss: 1.7813, Validation loss: 1.7947, Validation acc: 0.2695\n",
            "Epoch [950/1000], Training loss: 1.7808, Validation loss: 1.7949, Validation acc: 0.2675\n",
            "Epoch [960/1000], Training loss: 1.7813, Validation loss: 1.7951, Validation acc: 0.2697\n",
            "Epoch [970/1000], Training loss: 1.7803, Validation loss: 1.7947, Validation acc: 0.2679\n",
            "Epoch [980/1000], Training loss: 1.7814, Validation loss: 1.7948, Validation acc: 0.2713\n",
            "Epoch [990/1000], Training loss: 1.7801, Validation loss: 1.7942, Validation acc: 0.2715\n",
            "Epoch [1000/1000], Training loss: 1.7804, Validation loss: 1.7940, Validation acc: 0.2698\n"
          ]
        }
      ],
      "source": [
        "trans_metrics = train(vocab_size, trans, criterion, optimizer_trans, n_epochs, train_data_loader, val_data_loader)"
      ]
    },
    {
      "cell_type": "code",
      "execution_count": 224,
      "metadata": {
        "colab": {
          "base_uri": "https://localhost:8080/"
        },
        "id": "AzXovpPVHIpG",
        "outputId": "fc264c5f-b055-49ba-ebdc-8ffaab40a98d"
      },
      "outputs": [
        {
          "output_type": "stream",
          "name": "stdout",
          "text": [
            "Epoch [10/1000], Training loss: 2.2895, Validation loss: 2.2858, Validation acc: 0.1480\n",
            "Epoch [20/1000], Training loss: 2.1814, Validation loss: 2.1536, Validation acc: 0.2281\n",
            "Epoch [30/1000], Training loss: 2.0792, Validation loss: 2.0519, Validation acc: 0.2816\n",
            "Epoch [40/1000], Training loss: 1.9837, Validation loss: 1.9347, Validation acc: 0.3346\n",
            "Epoch [50/1000], Training loss: 1.8638, Validation loss: 1.7893, Validation acc: 0.3849\n",
            "Epoch [60/1000], Training loss: 1.7663, Validation loss: 1.6907, Validation acc: 0.4064\n",
            "Epoch [70/1000], Training loss: 1.7086, Validation loss: 1.6261, Validation acc: 0.4200\n",
            "Epoch [80/1000], Training loss: 1.6556, Validation loss: 1.5691, Validation acc: 0.4350\n",
            "Epoch [90/1000], Training loss: 1.6128, Validation loss: 1.5142, Validation acc: 0.4558\n",
            "Epoch [100/1000], Training loss: 1.5639, Validation loss: 1.4632, Validation acc: 0.4727\n",
            "Epoch [110/1000], Training loss: 1.5238, Validation loss: 1.4126, Validation acc: 0.4894\n",
            "Epoch [120/1000], Training loss: 1.4843, Validation loss: 1.3649, Validation acc: 0.5110\n",
            "Epoch [130/1000], Training loss: 1.4428, Validation loss: 1.3138, Validation acc: 0.5228\n",
            "Epoch [140/1000], Training loss: 1.4004, Validation loss: 1.2690, Validation acc: 0.5405\n",
            "Epoch [150/1000], Training loss: 1.3677, Validation loss: 1.2282, Validation acc: 0.5542\n",
            "Epoch [160/1000], Training loss: 1.3323, Validation loss: 1.1934, Validation acc: 0.5652\n",
            "Epoch [170/1000], Training loss: 1.3150, Validation loss: 1.1664, Validation acc: 0.5781\n",
            "Epoch [180/1000], Training loss: 1.2868, Validation loss: 1.1405, Validation acc: 0.5872\n",
            "Epoch [190/1000], Training loss: 1.2666, Validation loss: 1.1228, Validation acc: 0.5907\n",
            "Epoch [200/1000], Training loss: 1.2482, Validation loss: 1.1072, Validation acc: 0.5976\n",
            "Epoch [210/1000], Training loss: 1.2312, Validation loss: 1.0880, Validation acc: 0.6059\n",
            "Epoch [220/1000], Training loss: 1.2166, Validation loss: 1.0753, Validation acc: 0.6082\n",
            "Epoch [230/1000], Training loss: 1.2024, Validation loss: 1.0593, Validation acc: 0.6134\n",
            "Epoch [240/1000], Training loss: 1.1875, Validation loss: 1.0486, Validation acc: 0.6201\n",
            "Epoch [250/1000], Training loss: 1.1725, Validation loss: 1.0328, Validation acc: 0.6246\n",
            "Epoch [260/1000], Training loss: 1.1622, Validation loss: 1.0192, Validation acc: 0.6300\n",
            "Epoch [270/1000], Training loss: 1.1500, Validation loss: 1.0115, Validation acc: 0.6308\n",
            "Epoch [280/1000], Training loss: 1.1402, Validation loss: 1.0044, Validation acc: 0.6348\n",
            "Epoch [290/1000], Training loss: 1.1325, Validation loss: 0.9983, Validation acc: 0.6319\n",
            "Epoch [300/1000], Training loss: 1.1250, Validation loss: 0.9925, Validation acc: 0.6330\n",
            "Epoch [310/1000], Training loss: 1.1167, Validation loss: 0.9891, Validation acc: 0.6332\n",
            "Epoch [320/1000], Training loss: 1.1084, Validation loss: 0.9804, Validation acc: 0.6365\n",
            "Epoch [330/1000], Training loss: 1.1040, Validation loss: 0.9782, Validation acc: 0.6376\n",
            "Epoch [340/1000], Training loss: 1.0977, Validation loss: 0.9773, Validation acc: 0.6358\n",
            "Epoch [350/1000], Training loss: 1.0934, Validation loss: 0.9749, Validation acc: 0.6371\n",
            "Epoch [360/1000], Training loss: 1.0852, Validation loss: 0.9695, Validation acc: 0.6381\n",
            "Epoch [370/1000], Training loss: 1.0834, Validation loss: 0.9685, Validation acc: 0.6373\n",
            "Epoch [380/1000], Training loss: 1.0790, Validation loss: 0.9656, Validation acc: 0.6393\n",
            "Epoch [390/1000], Training loss: 1.0815, Validation loss: 0.9623, Validation acc: 0.6403\n",
            "Epoch [400/1000], Training loss: 1.0709, Validation loss: 0.9626, Validation acc: 0.6391\n",
            "Epoch [410/1000], Training loss: 1.0600, Validation loss: 0.9604, Validation acc: 0.6401\n",
            "Epoch [420/1000], Training loss: 1.0618, Validation loss: 0.9595, Validation acc: 0.6397\n",
            "Epoch [430/1000], Training loss: 1.0629, Validation loss: 0.9594, Validation acc: 0.6394\n",
            "Epoch [440/1000], Training loss: 1.0557, Validation loss: 0.9555, Validation acc: 0.6394\n",
            "Epoch [450/1000], Training loss: 1.0545, Validation loss: 0.9550, Validation acc: 0.6395\n",
            "Epoch [460/1000], Training loss: 1.0513, Validation loss: 0.9534, Validation acc: 0.6401\n",
            "Epoch [470/1000], Training loss: 1.0516, Validation loss: 0.9570, Validation acc: 0.6402\n",
            "Epoch [480/1000], Training loss: 1.0487, Validation loss: 0.9523, Validation acc: 0.6389\n",
            "Epoch [490/1000], Training loss: 1.0434, Validation loss: 0.9500, Validation acc: 0.6412\n",
            "Epoch [500/1000], Training loss: 1.0370, Validation loss: 0.9483, Validation acc: 0.6398\n",
            "Epoch [510/1000], Training loss: 1.0423, Validation loss: 0.9506, Validation acc: 0.6407\n",
            "Epoch [520/1000], Training loss: 1.0389, Validation loss: 0.9478, Validation acc: 0.6405\n",
            "Epoch [530/1000], Training loss: 1.0351, Validation loss: 0.9465, Validation acc: 0.6409\n",
            "Epoch [540/1000], Training loss: 1.0326, Validation loss: 0.9471, Validation acc: 0.6409\n",
            "Epoch [550/1000], Training loss: 1.0298, Validation loss: 0.9448, Validation acc: 0.6404\n",
            "Epoch [560/1000], Training loss: 1.0335, Validation loss: 0.9456, Validation acc: 0.6401\n",
            "Epoch [570/1000], Training loss: 1.0301, Validation loss: 0.9445, Validation acc: 0.6409\n",
            "Epoch [580/1000], Training loss: 1.0257, Validation loss: 0.9444, Validation acc: 0.6390\n",
            "Epoch [590/1000], Training loss: 1.0222, Validation loss: 0.9433, Validation acc: 0.6393\n",
            "Epoch [600/1000], Training loss: 1.0233, Validation loss: 0.9420, Validation acc: 0.6415\n",
            "Epoch [610/1000], Training loss: 1.0186, Validation loss: 0.9416, Validation acc: 0.6427\n",
            "Epoch [620/1000], Training loss: 1.0198, Validation loss: 0.9416, Validation acc: 0.6397\n",
            "Epoch [630/1000], Training loss: 1.0190, Validation loss: 0.9404, Validation acc: 0.6394\n",
            "Epoch [640/1000], Training loss: 1.0161, Validation loss: 0.9412, Validation acc: 0.6403\n",
            "Epoch [650/1000], Training loss: 1.0118, Validation loss: 0.9410, Validation acc: 0.6415\n",
            "Epoch [660/1000], Training loss: 1.0134, Validation loss: 0.9398, Validation acc: 0.6399\n",
            "Epoch [670/1000], Training loss: 1.0082, Validation loss: 0.9404, Validation acc: 0.6412\n",
            "Epoch [680/1000], Training loss: 1.0097, Validation loss: 0.9393, Validation acc: 0.6435\n",
            "Epoch [690/1000], Training loss: 1.0026, Validation loss: 0.9381, Validation acc: 0.6411\n",
            "Epoch [700/1000], Training loss: 1.0085, Validation loss: 0.9392, Validation acc: 0.6416\n",
            "Epoch [710/1000], Training loss: 1.0040, Validation loss: 0.9376, Validation acc: 0.6393\n",
            "Epoch [720/1000], Training loss: 1.0032, Validation loss: 0.9379, Validation acc: 0.6408\n",
            "Epoch [730/1000], Training loss: 0.9991, Validation loss: 0.9369, Validation acc: 0.6385\n",
            "Epoch [740/1000], Training loss: 1.0025, Validation loss: 0.9371, Validation acc: 0.6416\n",
            "Epoch [750/1000], Training loss: 0.9955, Validation loss: 0.9364, Validation acc: 0.6386\n",
            "Epoch [760/1000], Training loss: 0.9977, Validation loss: 0.9365, Validation acc: 0.6417\n",
            "Epoch [770/1000], Training loss: 0.9969, Validation loss: 0.9349, Validation acc: 0.6400\n",
            "Epoch [780/1000], Training loss: 0.9951, Validation loss: 0.9350, Validation acc: 0.6392\n",
            "Epoch [790/1000], Training loss: 0.9963, Validation loss: 0.9359, Validation acc: 0.6407\n",
            "Epoch [800/1000], Training loss: 0.9940, Validation loss: 0.9343, Validation acc: 0.6412\n",
            "Epoch [810/1000], Training loss: 0.9907, Validation loss: 0.9353, Validation acc: 0.6412\n",
            "Epoch [820/1000], Training loss: 0.9934, Validation loss: 0.9348, Validation acc: 0.6423\n",
            "Epoch [830/1000], Training loss: 0.9901, Validation loss: 0.9345, Validation acc: 0.6397\n",
            "Epoch [840/1000], Training loss: 0.9866, Validation loss: 0.9340, Validation acc: 0.6422\n",
            "Epoch [850/1000], Training loss: 0.9906, Validation loss: 0.9331, Validation acc: 0.6411\n",
            "Epoch [860/1000], Training loss: 0.9899, Validation loss: 0.9356, Validation acc: 0.6431\n",
            "Epoch [870/1000], Training loss: 0.9879, Validation loss: 0.9358, Validation acc: 0.6405\n",
            "Epoch [880/1000], Training loss: 0.9857, Validation loss: 0.9356, Validation acc: 0.6408\n",
            "Epoch [890/1000], Training loss: 0.9838, Validation loss: 0.9327, Validation acc: 0.6396\n",
            "Epoch [900/1000], Training loss: 0.9828, Validation loss: 0.9334, Validation acc: 0.6389\n",
            "Epoch [910/1000], Training loss: 0.9810, Validation loss: 0.9314, Validation acc: 0.6401\n",
            "Epoch [920/1000], Training loss: 0.9858, Validation loss: 0.9331, Validation acc: 0.6412\n",
            "Epoch [930/1000], Training loss: 0.9793, Validation loss: 0.9336, Validation acc: 0.6412\n",
            "Epoch [940/1000], Training loss: 0.9798, Validation loss: 0.9317, Validation acc: 0.6415\n",
            "Epoch [950/1000], Training loss: 0.9797, Validation loss: 0.9330, Validation acc: 0.6411\n",
            "Epoch [960/1000], Training loss: 0.9783, Validation loss: 0.9316, Validation acc: 0.6431\n",
            "Epoch [970/1000], Training loss: 0.9766, Validation loss: 0.9317, Validation acc: 0.6430\n",
            "Epoch [980/1000], Training loss: 0.9784, Validation loss: 0.9322, Validation acc: 0.6418\n",
            "Epoch [990/1000], Training loss: 0.9761, Validation loss: 0.9314, Validation acc: 0.6407\n",
            "Epoch [1000/1000], Training loss: 0.9764, Validation loss: 0.9312, Validation acc: 0.6405\n"
          ]
        }
      ],
      "source": [
        "criterion = nn.CrossEntropyLoss().to(device)\n",
        "rnn_metrics = train(vocab_size, rnn, criterion, optimizer_rnn, n_epochs, train_data_loader, val_data_loader)"
      ]
    },
    {
      "cell_type": "code",
      "execution_count": 227,
      "metadata": {
        "colab": {
          "base_uri": "https://localhost:8080/",
          "height": 451
        },
        "id": "vgOVYqBQHUE1",
        "outputId": "9ead9887-032d-40db-801f-4f12b435227c"
      },
      "outputs": [
        {
          "output_type": "display_data",
          "data": {
            "text/plain": [
              "<Figure size 640x480 with 1 Axes>"
            ],
            "image/png": "[encoded data removed]"
          },
          "metadata": {}
        }
      ],
      "source": [
        "import matplotlib.pyplot as plt\n",
        "\n",
        "plt.plot(trans_metrics[\"train_losses\"], label= \"Transformer Train\")\n",
        "plt.plot(trans_metrics[\"valid_losses\"], label= \"Transformer Val\")\n",
        "plt.plot(rnn_metrics[\"train_losses\"], label = \"RNN Train\")\n",
        "plt.plot(rnn_metrics[\"valid_losses\"], label = \"RNN Val\")\n",
        "plt.xlabel(\"Epoch\")\n",
        "plt.ylabel(\"Loss\")\n",
        "plt.legend()\n",
        "plt.show()"
      ]
    },
    {
      "cell_type": "code",
      "source": [
        "plt.plot(trans_metrics[\"valid_acc\"], label= \"Transformer Val\")\n",
        "plt.plot(rnn_metrics[\"valid_acc\"], label = \"RNN Val\")\n",
        "plt.xlabel(\"Epoch\")\n",
        "plt.ylabel(\"Acc\")\n",
        "plt.legend()\n",
        "plt.show()"
      ],
      "metadata": {
        "id": "g2N0Jxw1rqgf",
        "outputId": "986fc35f-ef12-404a-9d77-25667fd67280",
        "colab": {
          "base_uri": "https://localhost:8080/",
          "height": 449
        }
      },
      "execution_count": 228,
      "outputs": [
        {
          "output_type": "display_data",
          "data": {
            "text/plain": [
              "<Figure size 640x480 with 1 Axes>"
            ],
            "image/png": "[encoded data removed]"
          },
          "metadata": {}
        }
      ]
    }
  ],
  "metadata": {
    "accelerator": "GPU",
    "colab": {
      "gpuType": "T4",
      "provenance": [],
      "include_colab_link": true
    },
    "kernelspec": {
      "display_name": "Python 3",
      "name": "python3"
    },
    "language_info": {
      "name": "python"
    }
  },
  "nbformat": 4,
  "nbformat_minor": 0
}