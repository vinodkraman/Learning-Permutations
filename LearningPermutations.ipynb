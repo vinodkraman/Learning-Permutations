{
  "cells": [
    {
      "cell_type": "markdown",
      "metadata": {
        "id": "view-in-github",
        "colab_type": "text"
      },
      "source": [
        "<a href=\"https://colab.research.google.com/github/vinodkraman/Learning-Permutations/blob/main/LearningPermutations.ipynb\" target=\"_parent\"><img src=\"https://colab.research.google.com/assets/colab-badge.svg\" alt=\"Open In Colab\"/></a>"
      ]
    },
    {
      "cell_type": "code",
      "execution_count": 1,
      "metadata": {
        "colab": {
          "base_uri": "https://localhost:8080/"
        },
        "id": "JvhL5n76zBqx",
        "outputId": "b5aa6fe0-6998-4b6c-ab76-cdbe068616b8"
      },
      "outputs": [
        {
          "output_type": "stream",
          "name": "stdout",
          "text": [
            "Sun Dec  1 03:33:30 2024       \n",
            "+---------------------------------------------------------------------------------------+\n",
            "| NVIDIA-SMI 535.104.05             Driver Version: 535.104.05   CUDA Version: 12.2     |\n",
            "|-----------------------------------------+----------------------+----------------------+\n",
            "| GPU  Name                 Persistence-M | Bus-Id        Disp.A | Volatile Uncorr. ECC |\n",
            "| Fan  Temp   Perf          Pwr:Usage/Cap |         Memory-Usage | GPU-Util  Compute M. |\n",
            "|                                         |                      |               MIG M. |\n",
            "|=========================================+======================+======================|\n",
            "|   0  Tesla T4                       Off | 00000000:00:04.0 Off |                    0 |\n",
            "| N/A   51C    P8              10W /  70W |      0MiB / 15360MiB |      0%      Default |\n",
            "|                                         |                      |                  N/A |\n",
            "+-----------------------------------------+----------------------+----------------------+\n",
            "                                                                                         \n",
            "+---------------------------------------------------------------------------------------+\n",
            "| Processes:                                                                            |\n",
            "|  GPU   GI   CI        PID   Type   Process name                            GPU Memory |\n",
            "|        ID   ID                                                             Usage      |\n",
            "|=======================================================================================|\n",
            "|  No running processes found                                                           |\n",
            "+---------------------------------------------------------------------------------------+\n"
          ]
        }
      ],
      "source": [
        "!nvidia-smi"
      ]
    },
    {
      "cell_type": "code",
      "execution_count": 2,
      "metadata": {
        "id": "eW9XY9jbzIAU"
      },
      "outputs": [],
      "source": [
        "import torch\n",
        "import torch.nn as nn\n",
        "import numpy as np\n",
        "import collections\n",
        "\n",
        "torch.manual_seed(42)\n",
        "torch.cuda.manual_seed_all(42)\n",
        "device = torch.device(\"cuda\" if torch.cuda.is_available() else \"cpu\")"
      ]
    },
    {
      "cell_type": "code",
      "execution_count": 3,
      "metadata": {
        "id": "hpZs3i98YfGN"
      },
      "outputs": [],
      "source": [
        "def shuffle_columns(tensor, indices):\n",
        "    return tensor[:, indices]"
      ]
    },
    {
      "cell_type": "code",
      "execution_count": 4,
      "metadata": {
        "colab": {
          "base_uri": "https://localhost:8080/"
        },
        "id": "nPWt8UNczJOX",
        "outputId": "ca900c63-f31c-4af9-df7d-fb7d8039588b"
      },
      "outputs": [
        {
          "output_type": "stream",
          "name": "stdout",
          "text": [
            "tensor([[0, 0, 0, 0, 0, 0, 1, 0, 0, 0],\n",
            "        [0, 0, 1, 0, 0, 0, 0, 0, 0, 0],\n",
            "        [1, 0, 0, 0, 0, 0, 0, 0, 0, 0],\n",
            "        [0, 0, 0, 0, 0, 0, 0, 0, 1, 0],\n",
            "        [0, 0, 0, 0, 1, 0, 0, 0, 0, 0],\n",
            "        [0, 0, 0, 0, 0, 1, 0, 0, 0, 0],\n",
            "        [0, 1, 0, 0, 0, 0, 0, 0, 0, 0],\n",
            "        [0, 0, 0, 0, 0, 0, 0, 0, 0, 1],\n",
            "        [0, 0, 0, 1, 0, 0, 0, 0, 0, 0],\n",
            "        [0, 0, 0, 0, 0, 0, 0, 1, 0, 0]])\n"
          ]
        }
      ],
      "source": [
        "N = 10 # Sequence length\n",
        "vocab_size = 10 #vocab_size\n",
        "batch_size = 1000 #batch size\n",
        "\n",
        "n_train = 3000 #training set size\n",
        "n_test = 1000 #validation set\n",
        "\n",
        "A = torch.eye(N).long()\n",
        "\n",
        "perm = torch.randperm(N)\n",
        "A = shuffle_columns(A, perm) #generates a random permutation matrix\n",
        "print(A)"
      ]
    },
    {
      "cell_type": "code",
      "execution_count": 5,
      "metadata": {
        "id": "QVQFyY2Zz3Ui",
        "colab": {
          "base_uri": "https://localhost:8080/"
        },
        "outputId": "3b3be8ce-3eea-4ceb-d21a-9b445a7a9f66"
      },
      "outputs": [
        {
          "output_type": "stream",
          "name": "stdout",
          "text": [
            "tensor(9)\n"
          ]
        }
      ],
      "source": [
        "# Generate a batch of random input sequences\n",
        "input_sequences = torch.randint(0, vocab_size, (n_train, N)) #n x N\n",
        "output_sequences  = torch.matmul(input_sequences, A)\n",
        "print(torch.max(output_sequences))\n",
        "\n",
        "train_input_sequences = input_sequences.to(device)\n",
        "train_output_sequences = output_sequences.to(device)\n",
        "train_dataset = torch.utils.data.TensorDataset(train_input_sequences, train_output_sequences)\n",
        "train_data_loader = torch.utils.data.DataLoader(\n",
        "        dataset=train_dataset,\n",
        "        batch_size=batch_size,\n",
        "    )"
      ]
    },
    {
      "cell_type": "code",
      "execution_count": 6,
      "metadata": {
        "id": "6kZhLBI65jJa"
      },
      "outputs": [],
      "source": [
        "val_input_sequences = torch.randint(0, vocab_size, (n_test, N))\n",
        "val_output_sequences = torch.matmul(val_input_sequences, A)\n",
        "\n",
        "val_input_sequences = val_input_sequences.to(device)\n",
        "val_output_sequences = val_output_sequences.to(device)\n",
        "\n",
        "val_dataset = torch.utils.data.TensorDataset(val_input_sequences, val_output_sequences)\n",
        "val_data_loader = torch.utils.data.DataLoader(\n",
        "        dataset=val_dataset,\n",
        "        batch_size=batch_size,\n",
        "    )"
      ]
    },
    {
      "cell_type": "code",
      "execution_count": 7,
      "metadata": {
        "id": "897inNwlz5i-"
      },
      "outputs": [],
      "source": [
        "class PointwiseFeedforwardNetwork(nn.Module):\n",
        "  def __init__(self, d_embed, d_ff):\n",
        "    super(PointwiseFeedforwardNetwork, self).__init__()\n",
        "    self.d_embed = d_embed\n",
        "    self.d_ff = d_ff\n",
        "\n",
        "    self.ffn1 = nn.Linear(d_embed, d_ff)\n",
        "    self.ffn2 = nn.Linear(d_ff, d_embed)\n",
        "\n",
        "    self.relu = nn.ReLU()\n",
        "\n",
        "  def forward(self, x):\n",
        "    return self.ffn2(self.relu(self.ffn1(x)))"
      ]
    },
    {
      "cell_type": "code",
      "execution_count": 8,
      "metadata": {
        "id": "IIShZV1Fz7nS"
      },
      "outputs": [],
      "source": [
        "class Attention(nn.Module):\n",
        "  def __init__(self, d_embed):\n",
        "    super(Attention, self).__init__()\n",
        "\n",
        "    self.d_embed = d_embed\n",
        "    self.query_proj = nn.Linear(d_embed, d_embed).to(device)\n",
        "    self.key_proj = nn.Linear(d_embed, d_embed).to(device)\n",
        "    self.value_proj = nn.Linear(d_embed, d_embed).to(device)\n",
        "\n",
        "\n",
        "  def forward(self, x):\n",
        "    Q = self.query_proj(x)\n",
        "    K = self.key_proj(x)\n",
        "    V = self.value_proj(x)\n",
        "\n",
        "    scores = torch.matmul(Q, K.transpose(2, 1)) / (self.d_embed ** 0.5)\n",
        "\n",
        "    attention_weights = torch.softmax(scores, dim=-1)\n",
        "\n",
        "    output = torch.matmul(attention_weights, V)\n",
        "\n",
        "    return output\n"
      ]
    },
    {
      "cell_type": "code",
      "execution_count": 9,
      "metadata": {
        "id": "K03z-F4Ez-xo"
      },
      "outputs": [],
      "source": [
        "class TransformerLayer(nn.Module):\n",
        "  def __init__(self, d_embed, d_ff):\n",
        "    super(TransformerLayer, self).__init__()\n",
        "    self.d_embed = d_embed\n",
        "    self.d_ff = d_ff\n",
        "\n",
        "    self.attn = Attention(self.d_embed)\n",
        "\n",
        "    self.norm1 = nn.LayerNorm(d_embed).to(device)\n",
        "    self.norm2 = nn.LayerNorm(d_embed).to(device)\n",
        "    self.dropout = nn.Dropout(0.1)\n",
        "\n",
        "    self.ffn = PointwiseFeedforwardNetwork(d_embed, d_ff).to(device)\n",
        "    self.ffout = nn.Linear(d_embed, d_embed).to(device)\n",
        "\n",
        "  def forward(self, x):\n",
        "    x = self.norm1(x + self.dropout(self.attn(x)))\n",
        "    ffn = self.ffn(x)\n",
        "    x = self.norm2(x + self.dropout(ffn))\n",
        "\n",
        "    return self.ffout(x)\n"
      ]
    },
    {
      "cell_type": "code",
      "execution_count": 10,
      "metadata": {
        "id": "OtGOdJ-s0GTd"
      },
      "outputs": [],
      "source": [
        "class MultiLayerTransformer(nn.Module):\n",
        "  def __init__(self, d_embed, vocab_size, d_ff, num_layers):\n",
        "    super(MultiLayerTransformer, self).__init__()\n",
        "    self.embed = nn.Embedding(vocab_size, d_embed).to(device)\n",
        "    self.layers = nn.ModuleList([TransformerLayer(d_embed, d_ff)] * num_layers)\n",
        "    self.fcout = nn.Linear(d_embed, vocab_size).to(device)\n",
        "\n",
        "  def forward(self, x):\n",
        "    x_embed = self.embed(x)\n",
        "\n",
        "    for layer in self.layers:\n",
        "      x_embed = layer(x_embed)\n",
        "\n",
        "    return self.fcout(x_embed)"
      ]
    },
    {
      "cell_type": "code",
      "execution_count": 11,
      "metadata": {
        "id": "11O0wUx2_pLs"
      },
      "outputs": [],
      "source": [
        "class RNN(nn.Module):\n",
        "  def __init__(self, d_embed, vocab_size, hidden_dim, num_layers, batch_size):\n",
        "    super().__init__()\n",
        "    self.size_vocab = vocab_size\n",
        "    self.d_embed = d_embed\n",
        "    self.hidden_dim = hidden_dim\n",
        "    self.h0 = torch.zeros(num_layers, batch_size, self.hidden_dim).to(device)\n",
        "\n",
        "    self.embed = nn.Embedding(vocab_size, d_embed).to(device)\n",
        "    self.rnn = nn.RNN(d_embed, hidden_dim, num_layers= num_layers, nonlinearity='relu', dropout=0.1, batch_first=True).to(device)\n",
        "    self.fc = nn.Linear(hidden_dim, vocab_size).to(device)\n",
        "\n",
        "  def forward(self, x):\n",
        "    x_embed = self.embed(x) # (n, N, embed_dim)\n",
        "    x_rnn, _ = self.rnn(x_embed, self.h0) # (n, N, hidden_dim)\n",
        "    out = self.fc(x_rnn) # (n, N, size_vocab)\n",
        "    return out"
      ]
    },
    {
      "cell_type": "code",
      "source": [
        "def train_epoch(data_loader, vocab_size, model, criterion, optimizer, device):\n",
        "  model.train()\n",
        "  epoch_losses = []\n",
        "\n",
        "  for batch in data_loader:\n",
        "    optimizer.zero_grad()\n",
        "    X_train = batch[0]\n",
        "    y_train = batch[1]\n",
        "\n",
        "    outputs = model(X_train)\n",
        "    loss = criterion(outputs.contiguous().view(-1, vocab_size), y_train.contiguous().view(-1))\n",
        "    epoch_losses.append(loss.item())\n",
        "\n",
        "    loss.backward()\n",
        "    optimizer.step()\n",
        "\n",
        "  return np.mean(epoch_losses)"
      ],
      "metadata": {
        "id": "ZmI0WTh_yXpf"
      },
      "execution_count": 12,
      "outputs": []
    },
    {
      "cell_type": "code",
      "source": [
        "def epoch_evaluate(data_loader, vocab_size, model, criterion, device):\n",
        "    model.eval()\n",
        "    epoch_losses = []\n",
        "    with torch.no_grad():\n",
        "        for batch in data_loader:\n",
        "          X_val = batch[0]\n",
        "          y_val = batch[1]\n",
        "\n",
        "          predictions = model(X_val).to(device)\n",
        "          loss = criterion(predictions.contiguous().view(-1, vocab_size), y_val.contiguous().view(-1))\n",
        "\n",
        "          epoch_losses.append(loss.item())\n",
        "\n",
        "    return np.mean(epoch_losses)"
      ],
      "metadata": {
        "id": "X88PElNwy7Er"
      },
      "execution_count": 13,
      "outputs": []
    },
    {
      "cell_type": "code",
      "execution_count": 14,
      "metadata": {
        "id": "9Q2BKU0PE_Nv"
      },
      "outputs": [],
      "source": [
        "def train(vocab_size, model, criterion, optimizer, n_epochs, train_data_loader, val_data_loader):\n",
        "  metrics = collections.defaultdict(list)\n",
        "\n",
        "  for epoch in range(n_epochs):\n",
        "      train_loss = train_epoch(\n",
        "          train_data_loader, vocab_size, model, criterion, optimizer, device\n",
        "      )\n",
        "      valid_loss = epoch_evaluate(val_data_loader, vocab_size, model, criterion, device)\n",
        "      metrics[\"valid_losses\"].append(valid_loss)\n",
        "      metrics[\"train_losses\"].append(train_loss)\n",
        "\n",
        "      if (epoch+1) % 10 == 0:\n",
        "        print(f'Epoch [{epoch+1}/{n_epochs}], Training loss: {train_loss:.4f}, Validation loss: {valid_loss:.4f}')\n",
        "\n",
        "  return metrics"
      ]
    },
    {
      "cell_type": "code",
      "execution_count": 15,
      "metadata": {
        "colab": {
          "base_uri": "https://localhost:8080/"
        },
        "id": "TIDpe3NCFgR-",
        "outputId": "edc01df7-8233-4740-b931-465e7e0d47ae"
      },
      "outputs": [
        {
          "output_type": "stream",
          "name": "stdout",
          "text": [
            "# param Transformer: 7114\n",
            "# param RNN: 6986\n"
          ]
        }
      ],
      "source": [
        "d_ff = 32\n",
        "d_embed = 32\n",
        "num_layers = 3\n",
        "n_epochs = 1000\n",
        "\n",
        "\n",
        "trans = MultiLayerTransformer(d_embed, vocab_size, d_ff, num_layers).to(device)\n",
        "optimizer_trans = torch.optim.Adam(trans.parameters())\n",
        "num_trainable_params = sum([p.numel() for p in trans.parameters()])\n",
        "print(\"# param Transformer:\", num_trainable_params)\n",
        "\n",
        "rnn = RNN(d_embed, vocab_size, d_ff, num_layers, batch_size).to(device)\n",
        "optimizer_rnn = torch.optim.Adam(rnn.parameters())\n",
        "num_trainable_params = sum([p.numel() for p in rnn.parameters()])\n",
        "print(\"# param RNN:\", num_trainable_params)\n",
        "\n",
        "criterion = nn.CrossEntropyLoss().to(device)\n"
      ]
    },
    {
      "cell_type": "code",
      "execution_count": 16,
      "metadata": {
        "colab": {
          "base_uri": "https://localhost:8080/"
        },
        "id": "BJ2n-G4RGlaY",
        "outputId": "01952ddb-a339-4f75-ff17-264c8a6d5439"
      },
      "outputs": [
        {
          "output_type": "stream",
          "name": "stdout",
          "text": [
            "Epoch [10/1000], Training loss: 2.0898, Validation loss: 2.0713\n",
            "Epoch [20/1000], Training loss: 1.9500, Validation loss: 1.9304\n",
            "Epoch [30/1000], Training loss: 1.8784, Validation loss: 1.8648\n",
            "Epoch [40/1000], Training loss: 1.8485, Validation loss: 1.8390\n",
            "Epoch [50/1000], Training loss: 1.8363, Validation loss: 1.8266\n",
            "Epoch [60/1000], Training loss: 1.8235, Validation loss: 1.8162\n",
            "Epoch [70/1000], Training loss: 1.8150, Validation loss: 1.8073\n",
            "Epoch [80/1000], Training loss: 1.8059, Validation loss: 1.8003\n",
            "Epoch [90/1000], Training loss: 1.7972, Validation loss: 1.7944\n",
            "Epoch [100/1000], Training loss: 1.7938, Validation loss: 1.7905\n",
            "Epoch [110/1000], Training loss: 1.7902, Validation loss: 1.7870\n",
            "Epoch [120/1000], Training loss: 1.7850, Validation loss: 1.7846\n",
            "Epoch [130/1000], Training loss: 1.7840, Validation loss: 1.7821\n",
            "Epoch [140/1000], Training loss: 1.7808, Validation loss: 1.7802\n",
            "Epoch [150/1000], Training loss: 1.7769, Validation loss: 1.7790\n",
            "Epoch [160/1000], Training loss: 1.7748, Validation loss: 1.7776\n",
            "Epoch [170/1000], Training loss: 1.7712, Validation loss: 1.7768\n",
            "Epoch [180/1000], Training loss: 1.7712, Validation loss: 1.7760\n",
            "Epoch [190/1000], Training loss: 1.7681, Validation loss: 1.7755\n",
            "Epoch [200/1000], Training loss: 1.7674, Validation loss: 1.7748\n",
            "Epoch [210/1000], Training loss: 1.7663, Validation loss: 1.7740\n",
            "Epoch [220/1000], Training loss: 1.7654, Validation loss: 1.7737\n",
            "Epoch [230/1000], Training loss: 1.7647, Validation loss: 1.7736\n",
            "Epoch [240/1000], Training loss: 1.7629, Validation loss: 1.7734\n",
            "Epoch [250/1000], Training loss: 1.7622, Validation loss: 1.7728\n",
            "Epoch [260/1000], Training loss: 1.7625, Validation loss: 1.7731\n",
            "Epoch [270/1000], Training loss: 1.7620, Validation loss: 1.7731\n",
            "Epoch [280/1000], Training loss: 1.7587, Validation loss: 1.7732\n",
            "Epoch [290/1000], Training loss: 1.7597, Validation loss: 1.7732\n",
            "Epoch [300/1000], Training loss: 1.7567, Validation loss: 1.7736\n",
            "Epoch [310/1000], Training loss: 1.7574, Validation loss: 1.7727\n",
            "Epoch [320/1000], Training loss: 1.7563, Validation loss: 1.7727\n",
            "Epoch [330/1000], Training loss: 1.7551, Validation loss: 1.7730\n",
            "Epoch [340/1000], Training loss: 1.7560, Validation loss: 1.7731\n",
            "Epoch [350/1000], Training loss: 1.7557, Validation loss: 1.7741\n",
            "Epoch [360/1000], Training loss: 1.7526, Validation loss: 1.7730\n",
            "Epoch [370/1000], Training loss: 1.7527, Validation loss: 1.7746\n",
            "Epoch [380/1000], Training loss: 1.7537, Validation loss: 1.7756\n",
            "Epoch [390/1000], Training loss: 1.7510, Validation loss: 1.7750\n",
            "Epoch [400/1000], Training loss: 1.7521, Validation loss: 1.7758\n",
            "Epoch [410/1000], Training loss: 1.7513, Validation loss: 1.7755\n",
            "Epoch [420/1000], Training loss: 1.7504, Validation loss: 1.7762\n",
            "Epoch [430/1000], Training loss: 1.7481, Validation loss: 1.7762\n",
            "Epoch [440/1000], Training loss: 1.7466, Validation loss: 1.7766\n",
            "Epoch [450/1000], Training loss: 1.7472, Validation loss: 1.7768\n",
            "Epoch [460/1000], Training loss: 1.7471, Validation loss: 1.7774\n",
            "Epoch [470/1000], Training loss: 1.7449, Validation loss: 1.7772\n",
            "Epoch [480/1000], Training loss: 1.7471, Validation loss: 1.7773\n",
            "Epoch [490/1000], Training loss: 1.7468, Validation loss: 1.7780\n",
            "Epoch [500/1000], Training loss: 1.7465, Validation loss: 1.7773\n",
            "Epoch [510/1000], Training loss: 1.7436, Validation loss: 1.7781\n",
            "Epoch [520/1000], Training loss: 1.7442, Validation loss: 1.7787\n",
            "Epoch [530/1000], Training loss: 1.7458, Validation loss: 1.7781\n",
            "Epoch [540/1000], Training loss: 1.7444, Validation loss: 1.7793\n",
            "Epoch [550/1000], Training loss: 1.7440, Validation loss: 1.7785\n",
            "Epoch [560/1000], Training loss: 1.7442, Validation loss: 1.7789\n",
            "Epoch [570/1000], Training loss: 1.7432, Validation loss: 1.7792\n",
            "Epoch [580/1000], Training loss: 1.7428, Validation loss: 1.7793\n",
            "Epoch [590/1000], Training loss: 1.7442, Validation loss: 1.7805\n",
            "Epoch [600/1000], Training loss: 1.7412, Validation loss: 1.7796\n",
            "Epoch [610/1000], Training loss: 1.7424, Validation loss: 1.7794\n",
            "Epoch [620/1000], Training loss: 1.7414, Validation loss: 1.7800\n",
            "Epoch [630/1000], Training loss: 1.7416, Validation loss: 1.7803\n",
            "Epoch [640/1000], Training loss: 1.7422, Validation loss: 1.7801\n",
            "Epoch [650/1000], Training loss: 1.7411, Validation loss: 1.7805\n",
            "Epoch [660/1000], Training loss: 1.7402, Validation loss: 1.7809\n",
            "Epoch [670/1000], Training loss: 1.7432, Validation loss: 1.7805\n",
            "Epoch [680/1000], Training loss: 1.7407, Validation loss: 1.7806\n",
            "Epoch [690/1000], Training loss: 1.7397, Validation loss: 1.7809\n",
            "Epoch [700/1000], Training loss: 1.7395, Validation loss: 1.7809\n",
            "Epoch [710/1000], Training loss: 1.7399, Validation loss: 1.7813\n",
            "Epoch [720/1000], Training loss: 1.7400, Validation loss: 1.7815\n",
            "Epoch [730/1000], Training loss: 1.7393, Validation loss: 1.7820\n",
            "Epoch [740/1000], Training loss: 1.7376, Validation loss: 1.7814\n",
            "Epoch [750/1000], Training loss: 1.7394, Validation loss: 1.7822\n",
            "Epoch [760/1000], Training loss: 1.7389, Validation loss: 1.7816\n",
            "Epoch [770/1000], Training loss: 1.7372, Validation loss: 1.7830\n",
            "Epoch [780/1000], Training loss: 1.7373, Validation loss: 1.7832\n",
            "Epoch [790/1000], Training loss: 1.7371, Validation loss: 1.7825\n",
            "Epoch [800/1000], Training loss: 1.7382, Validation loss: 1.7823\n",
            "Epoch [810/1000], Training loss: 1.7369, Validation loss: 1.7822\n",
            "Epoch [820/1000], Training loss: 1.7362, Validation loss: 1.7826\n",
            "Epoch [830/1000], Training loss: 1.7370, Validation loss: 1.7833\n",
            "Epoch [840/1000], Training loss: 1.7372, Validation loss: 1.7829\n",
            "Epoch [850/1000], Training loss: 1.7361, Validation loss: 1.7825\n",
            "Epoch [860/1000], Training loss: 1.7345, Validation loss: 1.7833\n",
            "Epoch [870/1000], Training loss: 1.7328, Validation loss: 1.7827\n",
            "Epoch [880/1000], Training loss: 1.7357, Validation loss: 1.7818\n",
            "Epoch [890/1000], Training loss: 1.7343, Validation loss: 1.7829\n",
            "Epoch [900/1000], Training loss: 1.7343, Validation loss: 1.7844\n",
            "Epoch [910/1000], Training loss: 1.7334, Validation loss: 1.7830\n",
            "Epoch [920/1000], Training loss: 1.7352, Validation loss: 1.7830\n",
            "Epoch [930/1000], Training loss: 1.7353, Validation loss: 1.7824\n",
            "Epoch [940/1000], Training loss: 1.7351, Validation loss: 1.7829\n",
            "Epoch [950/1000], Training loss: 1.7339, Validation loss: 1.7832\n",
            "Epoch [960/1000], Training loss: 1.7359, Validation loss: 1.7831\n",
            "Epoch [970/1000], Training loss: 1.7334, Validation loss: 1.7828\n",
            "Epoch [980/1000], Training loss: 1.7345, Validation loss: 1.7832\n",
            "Epoch [990/1000], Training loss: 1.7351, Validation loss: 1.7842\n",
            "Epoch [1000/1000], Training loss: 1.7322, Validation loss: 1.7838\n"
          ]
        }
      ],
      "source": [
        "trans_metrics = train(vocab_size, trans, criterion, optimizer_trans, n_epochs, train_data_loader, val_data_loader)"
      ]
    },
    {
      "cell_type": "code",
      "execution_count": 17,
      "metadata": {
        "colab": {
          "base_uri": "https://localhost:8080/"
        },
        "id": "AzXovpPVHIpG",
        "outputId": "d7988195-054a-4ed5-da49-6fea1fa39629"
      },
      "outputs": [
        {
          "output_type": "stream",
          "name": "stdout",
          "text": [
            "Epoch [10/1000], Training loss: 2.2543, Validation loss: 2.2425\n",
            "Epoch [20/1000], Training loss: 2.1495, Validation loss: 2.1235\n",
            "Epoch [30/1000], Training loss: 2.0968, Validation loss: 2.0725\n",
            "Epoch [40/1000], Training loss: 2.0557, Validation loss: 2.0293\n",
            "Epoch [50/1000], Training loss: 2.0108, Validation loss: 1.9857\n",
            "Epoch [60/1000], Training loss: 1.9645, Validation loss: 1.9357\n",
            "Epoch [70/1000], Training loss: 1.9177, Validation loss: 1.8769\n",
            "Epoch [80/1000], Training loss: 1.8580, Validation loss: 1.8028\n",
            "Epoch [90/1000], Training loss: 1.7893, Validation loss: 1.7242\n",
            "Epoch [100/1000], Training loss: 1.7177, Validation loss: 1.6396\n",
            "Epoch [110/1000], Training loss: 1.6448, Validation loss: 1.5530\n",
            "Epoch [120/1000], Training loss: 1.5809, Validation loss: 1.4785\n",
            "Epoch [130/1000], Training loss: 1.5287, Validation loss: 1.4168\n",
            "Epoch [140/1000], Training loss: 1.4798, Validation loss: 1.3591\n",
            "Epoch [150/1000], Training loss: 1.4325, Validation loss: 1.3108\n",
            "Epoch [160/1000], Training loss: 1.4025, Validation loss: 1.2671\n",
            "Epoch [170/1000], Training loss: 1.3629, Validation loss: 1.2302\n",
            "Epoch [180/1000], Training loss: 1.3351, Validation loss: 1.1984\n",
            "Epoch [190/1000], Training loss: 1.3093, Validation loss: 1.1710\n",
            "Epoch [200/1000], Training loss: 1.2926, Validation loss: 1.1530\n",
            "Epoch [210/1000], Training loss: 1.2616, Validation loss: 1.1319\n",
            "Epoch [220/1000], Training loss: 1.2494, Validation loss: 1.1146\n",
            "Epoch [230/1000], Training loss: 1.2332, Validation loss: 1.1018\n",
            "Epoch [240/1000], Training loss: 1.2170, Validation loss: 1.0878\n",
            "Epoch [250/1000], Training loss: 1.2056, Validation loss: 1.0782\n",
            "Epoch [260/1000], Training loss: 1.1893, Validation loss: 1.0628\n",
            "Epoch [270/1000], Training loss: 1.1806, Validation loss: 1.0517\n",
            "Epoch [280/1000], Training loss: 1.1677, Validation loss: 1.0424\n",
            "Epoch [290/1000], Training loss: 1.1533, Validation loss: 1.0314\n",
            "Epoch [300/1000], Training loss: 1.1434, Validation loss: 1.0233\n",
            "Epoch [310/1000], Training loss: 1.1346, Validation loss: 1.0153\n",
            "Epoch [320/1000], Training loss: 1.1269, Validation loss: 1.0094\n",
            "Epoch [330/1000], Training loss: 1.1181, Validation loss: 1.0007\n",
            "Epoch [340/1000], Training loss: 1.1130, Validation loss: 0.9972\n",
            "Epoch [350/1000], Training loss: 1.1045, Validation loss: 0.9922\n",
            "Epoch [360/1000], Training loss: 1.0926, Validation loss: 0.9884\n",
            "Epoch [370/1000], Training loss: 1.0916, Validation loss: 0.9833\n",
            "Epoch [380/1000], Training loss: 1.0844, Validation loss: 0.9805\n",
            "Epoch [390/1000], Training loss: 1.0762, Validation loss: 0.9757\n",
            "Epoch [400/1000], Training loss: 1.0757, Validation loss: 0.9735\n",
            "Epoch [410/1000], Training loss: 1.0654, Validation loss: 0.9702\n",
            "Epoch [420/1000], Training loss: 1.0625, Validation loss: 0.9690\n",
            "Epoch [430/1000], Training loss: 1.0565, Validation loss: 0.9655\n",
            "Epoch [440/1000], Training loss: 1.0558, Validation loss: 0.9649\n",
            "Epoch [450/1000], Training loss: 1.0485, Validation loss: 0.9618\n",
            "Epoch [460/1000], Training loss: 1.0474, Validation loss: 0.9607\n",
            "Epoch [470/1000], Training loss: 1.0465, Validation loss: 0.9579\n",
            "Epoch [480/1000], Training loss: 1.0435, Validation loss: 0.9589\n",
            "Epoch [490/1000], Training loss: 1.0382, Validation loss: 0.9564\n",
            "Epoch [500/1000], Training loss: 1.0350, Validation loss: 0.9557\n",
            "Epoch [510/1000], Training loss: 1.0290, Validation loss: 0.9539\n",
            "Epoch [520/1000], Training loss: 1.0329, Validation loss: 0.9530\n",
            "Epoch [530/1000], Training loss: 1.0322, Validation loss: 0.9525\n",
            "Epoch [540/1000], Training loss: 1.0281, Validation loss: 0.9521\n",
            "Epoch [550/1000], Training loss: 1.0307, Validation loss: 0.9508\n",
            "Epoch [560/1000], Training loss: 1.0235, Validation loss: 0.9492\n",
            "Epoch [570/1000], Training loss: 1.0232, Validation loss: 0.9487\n",
            "Epoch [580/1000], Training loss: 1.0184, Validation loss: 0.9480\n",
            "Epoch [590/1000], Training loss: 1.0140, Validation loss: 0.9462\n",
            "Epoch [600/1000], Training loss: 1.0174, Validation loss: 0.9451\n",
            "Epoch [610/1000], Training loss: 1.0106, Validation loss: 0.9454\n",
            "Epoch [620/1000], Training loss: 1.0124, Validation loss: 0.9457\n",
            "Epoch [630/1000], Training loss: 1.0079, Validation loss: 0.9436\n",
            "Epoch [640/1000], Training loss: 1.0074, Validation loss: 0.9430\n",
            "Epoch [650/1000], Training loss: 1.0067, Validation loss: 0.9421\n",
            "Epoch [660/1000], Training loss: 1.0014, Validation loss: 0.9424\n",
            "Epoch [670/1000], Training loss: 1.0076, Validation loss: 0.9424\n",
            "Epoch [680/1000], Training loss: 0.9992, Validation loss: 0.9416\n",
            "Epoch [690/1000], Training loss: 0.9947, Validation loss: 0.9415\n",
            "Epoch [700/1000], Training loss: 1.0014, Validation loss: 0.9402\n",
            "Epoch [710/1000], Training loss: 0.9982, Validation loss: 0.9411\n",
            "Epoch [720/1000], Training loss: 0.9983, Validation loss: 0.9400\n",
            "Epoch [730/1000], Training loss: 0.9943, Validation loss: 0.9407\n",
            "Epoch [740/1000], Training loss: 0.9943, Validation loss: 0.9412\n",
            "Epoch [750/1000], Training loss: 0.9904, Validation loss: 0.9399\n",
            "Epoch [760/1000], Training loss: 0.9909, Validation loss: 0.9396\n",
            "Epoch [770/1000], Training loss: 0.9932, Validation loss: 0.9386\n",
            "Epoch [780/1000], Training loss: 0.9924, Validation loss: 0.9387\n",
            "Epoch [790/1000], Training loss: 0.9895, Validation loss: 0.9383\n",
            "Epoch [800/1000], Training loss: 0.9840, Validation loss: 0.9373\n",
            "Epoch [810/1000], Training loss: 0.9849, Validation loss: 0.9399\n",
            "Epoch [820/1000], Training loss: 0.9865, Validation loss: 0.9373\n",
            "Epoch [830/1000], Training loss: 0.9804, Validation loss: 0.9365\n",
            "Epoch [840/1000], Training loss: 0.9826, Validation loss: 0.9373\n",
            "Epoch [850/1000], Training loss: 0.9818, Validation loss: 0.9369\n",
            "Epoch [860/1000], Training loss: 0.9811, Validation loss: 0.9369\n",
            "Epoch [870/1000], Training loss: 0.9812, Validation loss: 0.9361\n",
            "Epoch [880/1000], Training loss: 0.9809, Validation loss: 0.9358\n",
            "Epoch [890/1000], Training loss: 0.9755, Validation loss: 0.9366\n",
            "Epoch [900/1000], Training loss: 0.9758, Validation loss: 0.9361\n",
            "Epoch [910/1000], Training loss: 0.9744, Validation loss: 0.9354\n",
            "Epoch [920/1000], Training loss: 0.9742, Validation loss: 0.9356\n",
            "Epoch [930/1000], Training loss: 0.9757, Validation loss: 0.9353\n",
            "Epoch [940/1000], Training loss: 0.9749, Validation loss: 0.9345\n",
            "Epoch [950/1000], Training loss: 0.9743, Validation loss: 0.9345\n",
            "Epoch [960/1000], Training loss: 0.9769, Validation loss: 0.9350\n",
            "Epoch [970/1000], Training loss: 0.9761, Validation loss: 0.9345\n",
            "Epoch [980/1000], Training loss: 0.9731, Validation loss: 0.9347\n",
            "Epoch [990/1000], Training loss: 0.9723, Validation loss: 0.9344\n",
            "Epoch [1000/1000], Training loss: 0.9717, Validation loss: 0.9343\n"
          ]
        }
      ],
      "source": [
        "criterion = nn.CrossEntropyLoss().to(device)\n",
        "rnn_metrics = train(vocab_size, rnn, criterion, optimizer_rnn, n_epochs, train_data_loader, val_data_loader)"
      ]
    },
    {
      "cell_type": "code",
      "execution_count": 18,
      "metadata": {
        "colab": {
          "base_uri": "https://localhost:8080/",
          "height": 449
        },
        "id": "vgOVYqBQHUE1",
        "outputId": "75b2dc59-0c16-4ce5-86d2-d6dd6496d500"
      },
      "outputs": [
        {
          "output_type": "display_data",
          "data": {
            "text/plain": [
              "<Figure size 640x480 with 1 Axes>"
            ],
            "image/png": "[encoded data removed]"
          },
          "metadata": {}
        }
      ],
      "source": [
        "import matplotlib.pyplot as plt\n",
        "\n",
        "plt.plot(trans_metrics[\"train_losses\"], label= \"Transformer Train\")\n",
        "plt.plot(trans_metrics[\"valid_losses\"], label= \"Transformer Val\")\n",
        "plt.plot(rnn_metrics[\"train_losses\"], label = \"RNN Train\")\n",
        "plt.plot(rnn_metrics[\"valid_losses\"], label = \"RNN Val\")\n",
        "plt.xlabel(\"Epoch\")\n",
        "plt.ylabel(\"Loss\")\n",
        "plt.legend()\n",
        "plt.show()"
      ]
    }
  ],
  "metadata": {
    "accelerator": "GPU",
    "colab": {
      "gpuType": "T4",
      "provenance": [],
      "include_colab_link": true
    },
    "kernelspec": {
      "display_name": "Python 3",
      "name": "python3"
    },
    "language_info": {
      "name": "python"
    }
  },
  "nbformat": 4,
  "nbformat_minor": 0
}