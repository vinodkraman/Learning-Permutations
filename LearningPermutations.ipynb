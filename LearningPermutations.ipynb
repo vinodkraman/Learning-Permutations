{
  "cells": [
    {
      "cell_type": "markdown",
      "metadata": {
        "id": "view-in-github",
        "colab_type": "text"
      },
      "source": [
        "<a href=\"https://colab.research.google.com/github/vinodkraman/Learning-Permutations/blob/main/LearningPermutations.ipynb\" target=\"_parent\"><img src=\"https://colab.research.google.com/assets/colab-badge.svg\" alt=\"Open In Colab\"/></a>"
      ]
    },
    {
      "cell_type": "code",
      "execution_count": null,
      "metadata": {
        "colab": {
          "base_uri": "https://localhost:8080/"
        },
        "id": "JvhL5n76zBqx",
        "outputId": "46d3101e-bc5a-4f0c-d590-9e8e34d835e5"
      },
      "outputs": [
        {
          "output_type": "stream",
          "name": "stdout",
          "text": [
            "Sun Dec  1 03:15:53 2024       \n",
            "+---------------------------------------------------------------------------------------+\n",
            "| NVIDIA-SMI 535.104.05             Driver Version: 535.104.05   CUDA Version: 12.2     |\n",
            "|-----------------------------------------+----------------------+----------------------+\n",
            "| GPU  Name                 Persistence-M | Bus-Id        Disp.A | Volatile Uncorr. ECC |\n",
            "| Fan  Temp   Perf          Pwr:Usage/Cap |         Memory-Usage | GPU-Util  Compute M. |\n",
            "|                                         |                      |               MIG M. |\n",
            "|=========================================+======================+======================|\n",
            "|   0  Tesla T4                       Off | 00000000:00:04.0 Off |                    0 |\n",
            "| N/A   51C    P8              10W /  70W |      0MiB / 15360MiB |      0%      Default |\n",
            "|                                         |                      |                  N/A |\n",
            "+-----------------------------------------+----------------------+----------------------+\n",
            "                                                                                         \n",
            "+---------------------------------------------------------------------------------------+\n",
            "| Processes:                                                                            |\n",
            "|  GPU   GI   CI        PID   Type   Process name                            GPU Memory |\n",
            "|        ID   ID                                                             Usage      |\n",
            "|=======================================================================================|\n",
            "|  No running processes found                                                           |\n",
            "+---------------------------------------------------------------------------------------+\n"
          ]
        }
      ],
      "source": [
        "!nvidia-smi\n",
        "device = torch.device(\"cuda\" if torch.cuda.is_available() else \"cpu\")"
      ]
    },
    {
      "cell_type": "code",
      "execution_count": null,
      "metadata": {
        "id": "eW9XY9jbzIAU"
      },
      "outputs": [],
      "source": [
        "import torch\n",
        "import torch.nn as nn\n",
        "import numpy as np\n",
        "import collections"
      ]
    },
    {
      "cell_type": "code",
      "execution_count": null,
      "metadata": {
        "id": "hpZs3i98YfGN"
      },
      "outputs": [],
      "source": [
        "def shuffle_columns(tensor, indices):\n",
        "    return tensor[:, indices]"
      ]
    },
    {
      "cell_type": "code",
      "execution_count": null,
      "metadata": {
        "colab": {
          "base_uri": "https://localhost:8080/"
        },
        "id": "nPWt8UNczJOX",
        "outputId": "2dd88f71-6546-464d-d07e-df1507e939df"
      },
      "outputs": [
        {
          "output_type": "stream",
          "name": "stdout",
          "text": [
            "tensor([[0, 0, 0, 0, 0, 1, 0, 0, 0, 0],\n",
            "        [0, 0, 0, 0, 0, 0, 0, 1, 0, 0],\n",
            "        [0, 0, 0, 0, 0, 0, 0, 0, 0, 1],\n",
            "        [0, 0, 0, 0, 1, 0, 0, 0, 0, 0],\n",
            "        [0, 0, 0, 0, 0, 0, 1, 0, 0, 0],\n",
            "        [0, 1, 0, 0, 0, 0, 0, 0, 0, 0],\n",
            "        [1, 0, 0, 0, 0, 0, 0, 0, 0, 0],\n",
            "        [0, 0, 1, 0, 0, 0, 0, 0, 0, 0],\n",
            "        [0, 0, 0, 0, 0, 0, 0, 0, 1, 0],\n",
            "        [0, 0, 0, 1, 0, 0, 0, 0, 0, 0]])\n"
          ]
        }
      ],
      "source": [
        "N = 10 # Sequence length\n",
        "vocab_size = 10 #vocab_size\n",
        "batch_size = 1000 #batch size\n",
        "\n",
        "n_train = 3000 #training set size\n",
        "n_test = 1000 #validation set\n",
        "\n",
        "A = torch.eye(N).long()\n",
        "\n",
        "perm = torch.randperm(N)\n",
        "A = shuffle_columns(A, perm) #generates a random permutation matrix\n",
        "print(A)"
      ]
    },
    {
      "cell_type": "code",
      "execution_count": null,
      "metadata": {
        "id": "QVQFyY2Zz3Ui",
        "colab": {
          "base_uri": "https://localhost:8080/"
        },
        "outputId": "04e9cbeb-9908-4d24-e145-1263569ac2f2"
      },
      "outputs": [
        {
          "output_type": "stream",
          "name": "stdout",
          "text": [
            "tensor(9)\n"
          ]
        }
      ],
      "source": [
        "# Generate a batch of random input sequences\n",
        "input_sequences = torch.randint(0, vocab_size, (n_train, N)) #n x N\n",
        "output_sequences  = torch.matmul(input_sequences, A)\n",
        "print(torch.max(output_sequences))\n",
        "\n",
        "train_input_sequences = input_sequences.to(device)\n",
        "train_output_sequences = output_sequences.to(device)\n",
        "train_dataset = torch.utils.data.TensorDataset(train_input_sequences, train_output_sequences)\n",
        "train_data_loader = torch.utils.data.DataLoader(\n",
        "        dataset=train_dataset,\n",
        "        batch_size=batch_size,\n",
        "    )"
      ]
    },
    {
      "cell_type": "code",
      "execution_count": null,
      "metadata": {
        "id": "6kZhLBI65jJa"
      },
      "outputs": [],
      "source": [
        "val_input_sequences = torch.randint(0, vocab_size, (n_test, N))\n",
        "val_output_sequences = torch.matmul(val_input_sequences, A)\n",
        "\n",
        "val_input_sequences = val_input_sequences.to(device)\n",
        "val_output_sequences = val_output_sequences.to(device)\n",
        "\n",
        "val_dataset = torch.utils.data.TensorDataset(val_input_sequences, val_output_sequences)\n",
        "val_data_loader = torch.utils.data.DataLoader(\n",
        "        dataset=val_dataset,\n",
        "        batch_size=batch_size,\n",
        "    )"
      ]
    },
    {
      "cell_type": "code",
      "execution_count": null,
      "metadata": {
        "id": "897inNwlz5i-"
      },
      "outputs": [],
      "source": [
        "class PointwiseFeedforwardNetwork(nn.Module):\n",
        "  def __init__(self, d_embed, d_ff):\n",
        "    super(PointwiseFeedforwardNetwork, self).__init__()\n",
        "    self.d_embed = d_embed\n",
        "    self.d_ff = d_ff\n",
        "\n",
        "    self.ffn1 = nn.Linear(d_embed, d_ff)\n",
        "    self.ffn2 = nn.Linear(d_ff, d_embed)\n",
        "\n",
        "    self.relu = nn.ReLU()\n",
        "\n",
        "  def forward(self, x):\n",
        "    return self.ffn2(self.relu(self.ffn1(x)))"
      ]
    },
    {
      "cell_type": "code",
      "execution_count": null,
      "metadata": {
        "id": "IIShZV1Fz7nS"
      },
      "outputs": [],
      "source": [
        "class Attention(nn.Module):\n",
        "  def __init__(self, d_embed):\n",
        "    super(Attention, self).__init__()\n",
        "\n",
        "    self.d_embed = d_embed\n",
        "    self.query_proj = nn.Linear(d_embed, d_embed).to(device)\n",
        "    self.key_proj = nn.Linear(d_embed, d_embed).to(device)\n",
        "    self.value_proj = nn.Linear(d_embed, d_embed).to(device)\n",
        "\n",
        "\n",
        "  def forward(self, x):\n",
        "    Q = self.query_proj(x)\n",
        "    K = self.key_proj(x)\n",
        "    V = self.value_proj(x)\n",
        "\n",
        "    scores = torch.matmul(Q, K.transpose(2, 1)) / (self.d_embed ** 0.5)\n",
        "\n",
        "    attention_weights = torch.softmax(scores, dim=-1)\n",
        "\n",
        "    output = torch.matmul(attention_weights, V)\n",
        "\n",
        "    return output\n"
      ]
    },
    {
      "cell_type": "code",
      "execution_count": null,
      "metadata": {
        "id": "K03z-F4Ez-xo"
      },
      "outputs": [],
      "source": [
        "class TransformerLayer(nn.Module):\n",
        "  def __init__(self, d_embed, d_ff):\n",
        "    super(TransformerLayer, self).__init__()\n",
        "    self.d_embed = d_embed\n",
        "    self.d_ff = d_ff\n",
        "\n",
        "    self.attn = Attention(self.d_embed)\n",
        "\n",
        "    self.norm1 = nn.LayerNorm(d_embed).to(device)\n",
        "    self.norm2 = nn.LayerNorm(d_embed).to(device)\n",
        "    self.dropout = nn.Dropout(0.1)\n",
        "\n",
        "    self.ffn = PointwiseFeedforwardNetwork(d_embed, d_ff).to(device)\n",
        "    self.ffout = nn.Linear(d_embed, d_embed).to(device)\n",
        "\n",
        "  def forward(self, x):\n",
        "    x = self.norm1(x + self.dropout(self.attn(x)))\n",
        "    ffn = self.ffn(x)\n",
        "    x = self.norm2(x + self.dropout(ffn))\n",
        "\n",
        "    return self.ffout(x)\n"
      ]
    },
    {
      "cell_type": "code",
      "execution_count": null,
      "metadata": {
        "id": "OtGOdJ-s0GTd"
      },
      "outputs": [],
      "source": [
        "class MultiLayerTransformer(nn.Module):\n",
        "  def __init__(self, d_embed, vocab_size, d_ff, num_layers):\n",
        "    super(MultiLayerTransformer, self).__init__()\n",
        "    self.embed = nn.Embedding(vocab_size, d_embed).to(device)\n",
        "    self.layers = nn.ModuleList([TransformerLayer(d_embed, d_ff)] * num_layers)\n",
        "    self.fcout = nn.Linear(d_embed, vocab_size).to(device)\n",
        "\n",
        "  def forward(self, x):\n",
        "    x_embed = self.embed(x)\n",
        "\n",
        "    for layer in self.layers:\n",
        "      x_embed = layer(x_embed)\n",
        "\n",
        "    return self.fcout(x_embed)"
      ]
    },
    {
      "cell_type": "code",
      "execution_count": null,
      "metadata": {
        "id": "11O0wUx2_pLs"
      },
      "outputs": [],
      "source": [
        "class RNN(nn.Module):\n",
        "  def __init__(self, d_embed, vocab_size, hidden_dim, num_layers, batch_size):\n",
        "    super().__init__()\n",
        "    self.size_vocab = vocab_size\n",
        "    self.d_embed = d_embed\n",
        "    self.hidden_dim = hidden_dim\n",
        "    self.h0 = torch.zeros(num_layers, batch_size, self.hidden_dim).to(device)\n",
        "\n",
        "    self.embed = nn.Embedding(vocab_size, d_embed).to(device)\n",
        "    self.rnn = nn.RNN(d_embed, hidden_dim, num_layers= num_layers, nonlinearity='relu', dropout=0.1, batch_first=True).to(device)\n",
        "    self.fc = nn.Linear(hidden_dim, vocab_size).to(device)\n",
        "\n",
        "  def forward(self, x):\n",
        "    x_embed = self.embed(x) # (n, N, embed_dim)\n",
        "    x_rnn, _ = self.rnn(x_embed, self.h0) # (n, N, hidden_dim)\n",
        "    out = self.fc(x_rnn) # (n, N, size_vocab)\n",
        "    return out"
      ]
    },
    {
      "cell_type": "code",
      "source": [
        "def train_epoch(data_loader, vocab_size, model, criterion, optimizer, device):\n",
        "  model.train()\n",
        "  epoch_losses = []\n",
        "\n",
        "  for batch in data_loader:\n",
        "    optimizer.zero_grad()\n",
        "    X_train = batch[0]\n",
        "    y_train = batch[1]\n",
        "\n",
        "    outputs = model(X_train)\n",
        "    loss = criterion(outputs.contiguous().view(-1, vocab_size), y_train.contiguous().view(-1))\n",
        "    epoch_losses.append(loss.item())\n",
        "\n",
        "    loss.backward()\n",
        "    optimizer.step()\n",
        "\n",
        "  return np.mean(epoch_losses)"
      ],
      "metadata": {
        "id": "ZmI0WTh_yXpf"
      },
      "execution_count": null,
      "outputs": []
    },
    {
      "cell_type": "code",
      "source": [
        "def epoch_evaluate(data_loader, vocab_size, model, criterion, device):\n",
        "    model.eval()\n",
        "    epoch_losses = []\n",
        "    with torch.no_grad():\n",
        "        for batch in data_loader:\n",
        "          X_val = batch[0]\n",
        "          y_val = batch[1]\n",
        "\n",
        "          predictions = model(X_val).to(device)\n",
        "          loss = criterion(predictions.contiguous().view(-1, vocab_size), y_val.contiguous().view(-1))\n",
        "\n",
        "          epoch_losses.append(loss.item())\n",
        "\n",
        "    return np.mean(epoch_losses)"
      ],
      "metadata": {
        "id": "X88PElNwy7Er"
      },
      "execution_count": null,
      "outputs": []
    },
    {
      "cell_type": "code",
      "execution_count": null,
      "metadata": {
        "id": "9Q2BKU0PE_Nv"
      },
      "outputs": [],
      "source": [
        "def train(vocab_size, model, criterion, optimizer, n_epochs, train_data_loader, val_data_loader):\n",
        "  metrics = collections.defaultdict(list)\n",
        "\n",
        "  for epoch in range(n_epochs):\n",
        "      train_loss = train_epoch(\n",
        "          train_data_loader, vocab_size, model, criterion, optimizer, device\n",
        "      )\n",
        "      valid_loss = epoch_evaluate(val_data_loader, vocab_size, model, criterion, device)\n",
        "      metrics[\"valid_losses\"].append(valid_loss)\n",
        "      metrics[\"train_losses\"].append(train_loss)\n",
        "\n",
        "      if (epoch+1) % 10 == 0:\n",
        "        print(f'Epoch [{epoch+1}/{n_epochs}], Training loss: {train_loss:.4f}, Validation loss: {valid_loss:.4f}')\n",
        "\n",
        "  return metrics"
      ]
    },
    {
      "cell_type": "code",
      "execution_count": null,
      "metadata": {
        "colab": {
          "base_uri": "https://localhost:8080/"
        },
        "id": "TIDpe3NCFgR-",
        "outputId": "4876186f-8a7e-4135-abd0-8abb605e36aa"
      },
      "outputs": [
        {
          "output_type": "stream",
          "name": "stdout",
          "text": [
            "# param Transformer: 7114\n",
            "# param RNN: 6986\n"
          ]
        }
      ],
      "source": [
        "d_ff = 32\n",
        "d_embed = 32\n",
        "num_layers = 3\n",
        "n_epochs = 1000\n",
        "\n",
        "\n",
        "trans = MultiLayerTransformer(d_embed, vocab_size, d_ff, num_layers).to(device)\n",
        "optimizer_trans = torch.optim.Adam(trans.parameters())\n",
        "num_trainable_params = sum([p.numel() for p in trans.parameters()])\n",
        "print(\"# param Transformer:\", num_trainable_params)\n",
        "\n",
        "rnn = RNN(d_embed, vocab_size, d_ff, num_layers, batch_size).to(device)\n",
        "optimizer_rnn = torch.optim.Adam(rnn.parameters())\n",
        "num_trainable_params = sum([p.numel() for p in rnn.parameters()])\n",
        "print(\"# param RNN:\", num_trainable_params)\n",
        "\n",
        "criterion = nn.CrossEntropyLoss().to(device)\n"
      ]
    },
    {
      "cell_type": "code",
      "execution_count": null,
      "metadata": {
        "colab": {
          "base_uri": "https://localhost:8080/"
        },
        "id": "BJ2n-G4RGlaY",
        "outputId": "07c2973c-ce16-4ae8-8029-d2e05eeb2eac"
      },
      "outputs": [
        {
          "output_type": "stream",
          "name": "stdout",
          "text": [
            "Epoch [10/1000], Training loss: 2.1891, Validation loss: 2.1676\n",
            "Epoch [20/1000], Training loss: 2.0628, Validation loss: 2.0422\n",
            "Epoch [30/1000], Training loss: 1.9749, Validation loss: 1.9542\n",
            "Epoch [40/1000], Training loss: 1.9053, Validation loss: 1.8836\n",
            "Epoch [50/1000], Training loss: 1.8836, Validation loss: 1.8622\n",
            "Epoch [60/1000], Training loss: 1.8702, Validation loss: 1.8499\n",
            "Epoch [70/1000], Training loss: 1.8587, Validation loss: 1.8400\n",
            "Epoch [80/1000], Training loss: 1.8508, Validation loss: 1.8323\n",
            "Epoch [90/1000], Training loss: 1.8440, Validation loss: 1.8260\n",
            "Epoch [100/1000], Training loss: 1.8403, Validation loss: 1.8209\n",
            "Epoch [110/1000], Training loss: 1.8353, Validation loss: 1.8166\n",
            "Epoch [120/1000], Training loss: 1.8300, Validation loss: 1.8125\n",
            "Epoch [130/1000], Training loss: 1.8273, Validation loss: 1.8098\n",
            "Epoch [140/1000], Training loss: 1.8220, Validation loss: 1.8062\n",
            "Epoch [150/1000], Training loss: 1.8163, Validation loss: 1.8040\n",
            "Epoch [160/1000], Training loss: 1.8148, Validation loss: 1.8022\n",
            "Epoch [170/1000], Training loss: 1.8129, Validation loss: 1.8008\n",
            "Epoch [180/1000], Training loss: 1.8124, Validation loss: 1.8000\n",
            "Epoch [190/1000], Training loss: 1.8103, Validation loss: 1.7991\n",
            "Epoch [200/1000], Training loss: 1.8079, Validation loss: 1.7985\n",
            "Epoch [210/1000], Training loss: 1.8051, Validation loss: 1.7976\n",
            "Epoch [220/1000], Training loss: 1.8058, Validation loss: 1.7971\n",
            "Epoch [230/1000], Training loss: 1.8019, Validation loss: 1.7971\n",
            "Epoch [240/1000], Training loss: 1.8013, Validation loss: 1.7972\n",
            "Epoch [250/1000], Training loss: 1.7993, Validation loss: 1.7972\n",
            "Epoch [260/1000], Training loss: 1.7970, Validation loss: 1.7969\n",
            "Epoch [270/1000], Training loss: 1.7964, Validation loss: 1.7969\n",
            "Epoch [280/1000], Training loss: 1.7969, Validation loss: 1.7967\n",
            "Epoch [290/1000], Training loss: 1.7963, Validation loss: 1.7971\n",
            "Epoch [300/1000], Training loss: 1.7962, Validation loss: 1.7966\n",
            "Epoch [310/1000], Training loss: 1.7932, Validation loss: 1.7960\n",
            "Epoch [320/1000], Training loss: 1.7943, Validation loss: 1.7966\n",
            "Epoch [330/1000], Training loss: 1.7905, Validation loss: 1.7963\n",
            "Epoch [340/1000], Training loss: 1.7902, Validation loss: 1.7957\n",
            "Epoch [350/1000], Training loss: 1.7913, Validation loss: 1.7960\n",
            "Epoch [360/1000], Training loss: 1.7895, Validation loss: 1.7957\n",
            "Epoch [370/1000], Training loss: 1.7908, Validation loss: 1.7958\n",
            "Epoch [380/1000], Training loss: 1.7880, Validation loss: 1.7954\n",
            "Epoch [390/1000], Training loss: 1.7857, Validation loss: 1.7961\n",
            "Epoch [400/1000], Training loss: 1.7861, Validation loss: 1.7959\n",
            "Epoch [410/1000], Training loss: 1.7874, Validation loss: 1.7956\n",
            "Epoch [420/1000], Training loss: 1.7866, Validation loss: 1.7954\n",
            "Epoch [430/1000], Training loss: 1.7871, Validation loss: 1.7956\n",
            "Epoch [440/1000], Training loss: 1.7847, Validation loss: 1.7958\n",
            "Epoch [450/1000], Training loss: 1.7863, Validation loss: 1.7956\n",
            "Epoch [460/1000], Training loss: 1.7879, Validation loss: 1.7961\n",
            "Epoch [470/1000], Training loss: 1.7843, Validation loss: 1.7964\n",
            "Epoch [480/1000], Training loss: 1.7826, Validation loss: 1.7965\n",
            "Epoch [490/1000], Training loss: 1.7847, Validation loss: 1.7961\n",
            "Epoch [500/1000], Training loss: 1.7826, Validation loss: 1.7965\n",
            "Epoch [510/1000], Training loss: 1.7816, Validation loss: 1.7963\n",
            "Epoch [520/1000], Training loss: 1.7802, Validation loss: 1.7971\n",
            "Epoch [530/1000], Training loss: 1.7805, Validation loss: 1.7970\n",
            "Epoch [540/1000], Training loss: 1.7801, Validation loss: 1.7976\n",
            "Epoch [550/1000], Training loss: 1.7819, Validation loss: 1.7973\n",
            "Epoch [560/1000], Training loss: 1.7799, Validation loss: 1.7971\n",
            "Epoch [570/1000], Training loss: 1.7793, Validation loss: 1.7975\n",
            "Epoch [580/1000], Training loss: 1.7797, Validation loss: 1.7971\n",
            "Epoch [590/1000], Training loss: 1.7803, Validation loss: 1.7980\n",
            "Epoch [600/1000], Training loss: 1.7801, Validation loss: 1.7973\n",
            "Epoch [610/1000], Training loss: 1.7774, Validation loss: 1.7970\n",
            "Epoch [620/1000], Training loss: 1.7772, Validation loss: 1.7975\n",
            "Epoch [630/1000], Training loss: 1.7782, Validation loss: 1.7979\n",
            "Epoch [640/1000], Training loss: 1.7783, Validation loss: 1.7980\n",
            "Epoch [650/1000], Training loss: 1.7780, Validation loss: 1.7980\n",
            "Epoch [660/1000], Training loss: 1.7766, Validation loss: 1.7978\n",
            "Epoch [670/1000], Training loss: 1.7772, Validation loss: 1.7968\n",
            "Epoch [680/1000], Training loss: 1.7771, Validation loss: 1.7978\n",
            "Epoch [690/1000], Training loss: 1.7751, Validation loss: 1.7973\n",
            "Epoch [700/1000], Training loss: 1.7729, Validation loss: 1.7975\n",
            "Epoch [710/1000], Training loss: 1.7759, Validation loss: 1.7980\n",
            "Epoch [720/1000], Training loss: 1.7746, Validation loss: 1.7985\n",
            "Epoch [730/1000], Training loss: 1.7757, Validation loss: 1.7989\n",
            "Epoch [740/1000], Training loss: 1.7729, Validation loss: 1.7982\n",
            "Epoch [750/1000], Training loss: 1.7750, Validation loss: 1.7983\n",
            "Epoch [760/1000], Training loss: 1.7737, Validation loss: 1.7984\n",
            "Epoch [770/1000], Training loss: 1.7739, Validation loss: 1.7980\n",
            "Epoch [780/1000], Training loss: 1.7722, Validation loss: 1.7984\n",
            "Epoch [790/1000], Training loss: 1.7723, Validation loss: 1.7981\n",
            "Epoch [800/1000], Training loss: 1.7735, Validation loss: 1.7983\n",
            "Epoch [810/1000], Training loss: 1.7742, Validation loss: 1.7985\n",
            "Epoch [820/1000], Training loss: 1.7721, Validation loss: 1.7983\n",
            "Epoch [830/1000], Training loss: 1.7712, Validation loss: 1.7984\n",
            "Epoch [840/1000], Training loss: 1.7714, Validation loss: 1.7990\n",
            "Epoch [850/1000], Training loss: 1.7722, Validation loss: 1.7986\n",
            "Epoch [860/1000], Training loss: 1.7730, Validation loss: 1.7990\n",
            "Epoch [870/1000], Training loss: 1.7720, Validation loss: 1.7993\n",
            "Epoch [880/1000], Training loss: 1.7698, Validation loss: 1.7990\n",
            "Epoch [890/1000], Training loss: 1.7720, Validation loss: 1.7993\n",
            "Epoch [900/1000], Training loss: 1.7713, Validation loss: 1.7996\n",
            "Epoch [910/1000], Training loss: 1.7705, Validation loss: 1.7989\n",
            "Epoch [920/1000], Training loss: 1.7691, Validation loss: 1.7995\n",
            "Epoch [930/1000], Training loss: 1.7695, Validation loss: 1.7997\n",
            "Epoch [940/1000], Training loss: 1.7719, Validation loss: 1.7992\n",
            "Epoch [950/1000], Training loss: 1.7700, Validation loss: 1.7994\n",
            "Epoch [960/1000], Training loss: 1.7713, Validation loss: 1.7992\n",
            "Epoch [970/1000], Training loss: 1.7692, Validation loss: 1.8003\n",
            "Epoch [980/1000], Training loss: 1.7691, Validation loss: 1.8003\n",
            "Epoch [990/1000], Training loss: 1.7682, Validation loss: 1.8002\n",
            "Epoch [1000/1000], Training loss: 1.7696, Validation loss: 1.8003\n"
          ]
        }
      ],
      "source": [
        "trans_metrics = train(vocab_size, trans, criterion, optimizer_trans, n_epochs, train_data_loader, val_data_loader)"
      ]
    },
    {
      "cell_type": "code",
      "execution_count": null,
      "metadata": {
        "colab": {
          "base_uri": "https://localhost:8080/"
        },
        "id": "AzXovpPVHIpG",
        "outputId": "412a397f-876d-4ff1-deaf-d2baf6e0c909"
      },
      "outputs": [
        {
          "output_type": "stream",
          "name": "stdout",
          "text": [
            "Epoch [10/1000], Training loss: 2.2670, Validation loss: 2.2571\n",
            "Epoch [20/1000], Training loss: 2.1908, Validation loss: 2.1669\n",
            "Epoch [30/1000], Training loss: 2.1486, Validation loss: 2.1208\n",
            "Epoch [40/1000], Training loss: 2.1208, Validation loss: 2.0933\n",
            "Epoch [50/1000], Training loss: 2.0999, Validation loss: 2.0691\n",
            "Epoch [60/1000], Training loss: 2.0746, Validation loss: 2.0439\n",
            "Epoch [70/1000], Training loss: 2.0509, Validation loss: 2.0217\n",
            "Epoch [80/1000], Training loss: 2.0329, Validation loss: 1.9951\n",
            "Epoch [90/1000], Training loss: 2.0057, Validation loss: 1.9632\n",
            "Epoch [100/1000], Training loss: 1.9831, Validation loss: 1.9350\n",
            "Epoch [110/1000], Training loss: 1.9612, Validation loss: 1.9075\n",
            "Epoch [120/1000], Training loss: 1.9422, Validation loss: 1.8831\n",
            "Epoch [130/1000], Training loss: 1.9204, Validation loss: 1.8550\n",
            "Epoch [140/1000], Training loss: 1.8967, Validation loss: 1.8309\n",
            "Epoch [150/1000], Training loss: 1.8783, Validation loss: 1.8060\n",
            "Epoch [160/1000], Training loss: 1.8544, Validation loss: 1.7807\n",
            "Epoch [170/1000], Training loss: 1.8316, Validation loss: 1.7593\n",
            "Epoch [180/1000], Training loss: 1.8127, Validation loss: 1.7333\n",
            "Epoch [190/1000], Training loss: 1.7895, Validation loss: 1.7133\n",
            "Epoch [200/1000], Training loss: 1.7728, Validation loss: 1.6913\n",
            "Epoch [210/1000], Training loss: 1.7585, Validation loss: 1.6775\n",
            "Epoch [220/1000], Training loss: 1.7416, Validation loss: 1.6518\n",
            "Epoch [230/1000], Training loss: 1.7225, Validation loss: 1.6296\n",
            "Epoch [240/1000], Training loss: 1.7033, Validation loss: 1.6106\n",
            "Epoch [250/1000], Training loss: 1.6859, Validation loss: 1.5901\n",
            "Epoch [260/1000], Training loss: 1.6774, Validation loss: 1.5714\n",
            "Epoch [270/1000], Training loss: 1.6627, Validation loss: 1.5527\n",
            "Epoch [280/1000], Training loss: 1.6451, Validation loss: 1.5339\n",
            "Epoch [290/1000], Training loss: 1.6317, Validation loss: 1.5128\n",
            "Epoch [300/1000], Training loss: 1.6079, Validation loss: 1.4953\n",
            "Epoch [310/1000], Training loss: 1.6007, Validation loss: 1.4830\n",
            "Epoch [320/1000], Training loss: 1.5872, Validation loss: 1.4564\n",
            "Epoch [330/1000], Training loss: 1.5658, Validation loss: 1.4362\n",
            "Epoch [340/1000], Training loss: 1.5562, Validation loss: 1.4235\n",
            "Epoch [350/1000], Training loss: 1.5445, Validation loss: 1.4011\n",
            "Epoch [360/1000], Training loss: 1.5354, Validation loss: 1.3894\n",
            "Epoch [370/1000], Training loss: 1.5176, Validation loss: 1.3780\n",
            "Epoch [380/1000], Training loss: 1.5009, Validation loss: 1.3563\n",
            "Epoch [390/1000], Training loss: 1.4916, Validation loss: 1.3356\n",
            "Epoch [400/1000], Training loss: 1.4796, Validation loss: 1.3298\n",
            "Epoch [410/1000], Training loss: 1.4703, Validation loss: 1.3126\n",
            "Epoch [420/1000], Training loss: 1.4633, Validation loss: 1.3104\n",
            "Epoch [430/1000], Training loss: 1.4451, Validation loss: 1.2873\n",
            "Epoch [440/1000], Training loss: 1.4372, Validation loss: 1.2703\n",
            "Epoch [450/1000], Training loss: 1.4273, Validation loss: 1.2600\n",
            "Epoch [460/1000], Training loss: 1.4164, Validation loss: 1.2460\n",
            "Epoch [470/1000], Training loss: 1.4028, Validation loss: 1.2301\n",
            "Epoch [480/1000], Training loss: 1.3904, Validation loss: 1.2185\n",
            "Epoch [490/1000], Training loss: 1.3886, Validation loss: 1.2163\n",
            "Epoch [500/1000], Training loss: 1.3730, Validation loss: 1.2040\n",
            "Epoch [510/1000], Training loss: 1.3630, Validation loss: 1.1818\n",
            "Epoch [520/1000], Training loss: 1.3581, Validation loss: 1.1785\n",
            "Epoch [530/1000], Training loss: 1.3385, Validation loss: 1.1592\n",
            "Epoch [540/1000], Training loss: 1.3291, Validation loss: 1.1459\n",
            "Epoch [550/1000], Training loss: 1.3195, Validation loss: 1.1364\n",
            "Epoch [560/1000], Training loss: 1.3120, Validation loss: 1.1312\n",
            "Epoch [570/1000], Training loss: 1.3038, Validation loss: 1.1177\n",
            "Epoch [580/1000], Training loss: 1.2905, Validation loss: 1.1058\n",
            "Epoch [590/1000], Training loss: 1.2790, Validation loss: 1.0952\n",
            "Epoch [600/1000], Training loss: 1.2705, Validation loss: 1.0880\n",
            "Epoch [610/1000], Training loss: 1.2665, Validation loss: 1.0783\n",
            "Epoch [620/1000], Training loss: 1.2602, Validation loss: 1.0753\n",
            "Epoch [630/1000], Training loss: 1.2506, Validation loss: 1.0646\n",
            "Epoch [640/1000], Training loss: 1.2479, Validation loss: 1.0569\n",
            "Epoch [650/1000], Training loss: 1.2381, Validation loss: 1.0540\n",
            "Epoch [660/1000], Training loss: 1.2281, Validation loss: 1.0427\n",
            "Epoch [670/1000], Training loss: 1.2260, Validation loss: 1.0436\n",
            "Epoch [680/1000], Training loss: 1.2187, Validation loss: 1.0353\n",
            "Epoch [690/1000], Training loss: 1.2074, Validation loss: 1.0267\n",
            "Epoch [700/1000], Training loss: 1.1955, Validation loss: 1.0234\n",
            "Epoch [710/1000], Training loss: 1.1955, Validation loss: 1.0194\n",
            "Epoch [720/1000], Training loss: 1.1880, Validation loss: 1.0143\n",
            "Epoch [730/1000], Training loss: 1.1773, Validation loss: 1.0095\n",
            "Epoch [740/1000], Training loss: 1.1796, Validation loss: 1.0070\n",
            "Epoch [750/1000], Training loss: 1.1737, Validation loss: 1.0022\n",
            "Epoch [760/1000], Training loss: 1.1705, Validation loss: 1.0051\n",
            "Epoch [770/1000], Training loss: 1.1630, Validation loss: 0.9975\n",
            "Epoch [780/1000], Training loss: 1.1543, Validation loss: 0.9940\n",
            "Epoch [790/1000], Training loss: 1.1558, Validation loss: 0.9917\n",
            "Epoch [800/1000], Training loss: 1.1474, Validation loss: 0.9891\n",
            "Epoch [810/1000], Training loss: 1.1420, Validation loss: 0.9879\n",
            "Epoch [820/1000], Training loss: 1.1402, Validation loss: 0.9867\n",
            "Epoch [830/1000], Training loss: 1.1344, Validation loss: 0.9813\n",
            "Epoch [840/1000], Training loss: 1.1335, Validation loss: 0.9800\n",
            "Epoch [850/1000], Training loss: 1.1366, Validation loss: 0.9790\n",
            "Epoch [860/1000], Training loss: 1.1288, Validation loss: 0.9803\n",
            "Epoch [870/1000], Training loss: 1.1240, Validation loss: 0.9740\n",
            "Epoch [880/1000], Training loss: 1.1216, Validation loss: 0.9723\n",
            "Epoch [890/1000], Training loss: 1.1203, Validation loss: 0.9710\n",
            "Epoch [900/1000], Training loss: 1.1213, Validation loss: 0.9686\n",
            "Epoch [910/1000], Training loss: 1.1022, Validation loss: 0.9675\n",
            "Epoch [920/1000], Training loss: 1.1040, Validation loss: 0.9660\n",
            "Epoch [930/1000], Training loss: 1.1037, Validation loss: 0.9639\n",
            "Epoch [940/1000], Training loss: 1.1003, Validation loss: 0.9632\n",
            "Epoch [950/1000], Training loss: 1.0951, Validation loss: 0.9650\n",
            "Epoch [960/1000], Training loss: 1.0934, Validation loss: 0.9617\n",
            "Epoch [970/1000], Training loss: 1.0846, Validation loss: 0.9598\n",
            "Epoch [980/1000], Training loss: 1.0874, Validation loss: 0.9587\n",
            "Epoch [990/1000], Training loss: 1.0839, Validation loss: 0.9576\n",
            "Epoch [1000/1000], Training loss: 1.0831, Validation loss: 0.9565\n"
          ]
        }
      ],
      "source": [
        "criterion = nn.CrossEntropyLoss().to(device)\n",
        "rnn_metrics = train(vocab_size, rnn, criterion, optimizer_rnn, n_epochs, train_data_loader, val_data_loader)"
      ]
    },
    {
      "cell_type": "code",
      "execution_count": null,
      "metadata": {
        "colab": {
          "base_uri": "https://localhost:8080/",
          "height": 449
        },
        "id": "vgOVYqBQHUE1",
        "outputId": "8a765e86-0be0-41eb-9f6d-8223da056d0c"
      },
      "outputs": [
        {
          "output_type": "display_data",
          "data": {
            "text/plain": [
              "<Figure size 640x480 with 1 Axes>"
            ],
            "image/png": "[encoded data removed]"
          },
          "metadata": {}
        }
      ],
      "source": [
        "import matplotlib.pyplot as plt\n",
        "\n",
        "plt.plot(trans_metrics[\"train_losses\"], label= \"Transformer Train\")\n",
        "plt.plot(trans_metrics[\"valid_losses\"], label= \"Transformer Val\")\n",
        "plt.plot(rnn_metrics[\"train_losses\"], label = \"RNN Train\")\n",
        "plt.plot(rnn_metrics[\"valid_losses\"], label = \"RNN Val\")\n",
        "plt.xlabel(\"Epoch\")\n",
        "plt.ylabel(\"Loss\")\n",
        "plt.legend()\n",
        "plt.show()"
      ]
    }
  ],
  "metadata": {
    "accelerator": "GPU",
    "colab": {
      "gpuType": "T4",
      "provenance": [],
      "include_colab_link": true
    },
    "kernelspec": {
      "display_name": "Python 3",
      "name": "python3"
    },
    "language_info": {
      "name": "python"
    }
  },
  "nbformat": 4,
  "nbformat_minor": 0
}